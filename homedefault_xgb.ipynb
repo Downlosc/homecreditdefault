{
 "nbformat": 4,
 "nbformat_minor": 2,
 "metadata": {
  "language_info": {
   "name": "python",
   "codemirror_mode": {
    "name": "ipython",
    "version": 3
   },
   "version": "3.7.6-final"
  },
  "orig_nbformat": 2,
  "file_extension": ".py",
  "mimetype": "text/x-python",
  "name": "python",
  "npconvert_exporter": "python",
  "pygments_lexer": "ipython3",
  "version": 3,
  "kernelspec": {
   "name": "python37664bithomedefaulcondac3ef0b2983f64cfd8cf91c045a31b21e",
   "display_name": "Python 3.7.6 64-bit ('homedefaul': conda)"
  }
 },
 "cells": [
  {
   "cell_type": "code",
   "execution_count": 2,
   "metadata": {},
   "outputs": [],
   "source": [
    "import pandas as pd \n",
    "import numpy as np\n",
    "import matplotlib.pyplot as plt\n",
    "import sklearn\n",
    "import gc\n",
    "gc.enable()\n",
    "import xgboost as xgb\n",
    "import utilities"
   ]
  },
  {
   "cell_type": "code",
   "execution_count": 3,
   "metadata": {},
   "outputs": [],
   "source": [
    "train = utilities.read_csv('../../datatmp/data/trainjoincollnoisy.csv')\n",
    "test = utilities.read_csv('../../datatmp/data/testjoincollnoisy.csv')"
   ]
  },
  {
   "cell_type": "code",
   "execution_count": 4,
   "metadata": {},
   "outputs": [],
   "source": [
    "target = train['TARGET'].astype(int).copy()\n",
    "train.drop('TARGET',axis=1, inplace=True)\n",
    "testIds = test['SK_ID_CURR'].astype(int).copy()\n",
    "train.drop('SK_ID_CURR', axis=1, inplace=True)\n",
    "test.drop('SK_ID_CURR', axis=1, inplace=True)"
   ]
  },
  {
   "cell_type": "code",
   "execution_count": 5,
   "metadata": {},
   "outputs": [],
   "source": [
    "# Due to the last version of lgb, we got an error related to special chars in column names. Replacing the blanks in the following fixed it\n",
    "train.columns = [\"\".join (c if c.isalnum() else \"_\" for c in str(x)) for x in train.columns]\n",
    "test.columns = [\"\".join (c if c.isalnum() else \"_\" for c in str(x)) for x in test.columns]"
   ]
  },
  {
   "cell_type": "code",
   "execution_count": 6,
   "metadata": {},
   "outputs": [],
   "source": [
    "impFeats = []\n",
    "importances = pd.read_csv('../../datatmp/data/importances.csv')\n",
    "\n",
    "for feat in importances:\n",
    "    if importances.loc[0][feat] > 0:\n",
    "        impFeats.append(feat)"
   ]
  },
  {
   "cell_type": "code",
   "execution_count": 7,
   "metadata": {},
   "outputs": [],
   "source": [
    "# Final train test\n",
    "train = train[impFeats]\n",
    "test = test[impFeats]"
   ]
  },
  {
   "cell_type": "code",
   "execution_count": 8,
   "metadata": {},
   "outputs": [],
   "source": [
    "# K-Fold xgboost train and predict\n",
    "from sklearn.model_selection import KFold\n",
    "\n",
    "def trainNpredXgb(train, test, y, nFolds):\n",
    "\n",
    "    testPreds = np.zeros(test.shape[0])\n",
    "\n",
    "    # Unbalanced data: use cv\n",
    "    # Set seed to make the experiment reproducible\n",
    "    folds = KFold(n_splits=nFolds, shuffle=True, random_state=42)\n",
    "\n",
    "    for fold, (trainIds, valIds) in enumerate(folds.split(train, y)):\n",
    "\n",
    "        trainX, trainY = train.iloc[trainIds], y.iloc[trainIds]\n",
    "        valX, valY = train.iloc[valIds], y.iloc[valIds]\n",
    "\n",
    "        # Params taken from https://www.kaggle.com/tunguz/xgb-simple-features#L277\n",
    "        clf = xgb.XGBClassifier(learning_rate =0.01, n_estimators=10000, max_depth=4, min_child_weight=5, subsample=0.8, colsample_bytree=0.8, objective= 'binary:logistic', \n",
    "            nthread=4, scale_pos_weight=2.5, seed=27, reg_lambda = 1.2)\n",
    "\n",
    "        \n",
    "        clf.fit(trainX, trainY, eval_set=[(valX, valY)], eval_metric= 'auc', verbose= 100, early_stopping_rounds=200)\n",
    "        \n",
    "\n",
    "        # Average best iteration preds for test \n",
    "        testPreds += clf.predict_proba(test)[:, 1] / folds.n_splits \n",
    "\n",
    "        # Free space\n",
    "        del trainX, trainY, valX, valY\n",
    "        gc.collect()\n",
    "\n",
    "    return testPreds"
   ]
  },
  {
   "cell_type": "code",
   "execution_count": 9,
   "metadata": {},
   "outputs": [
    {
     "name": "stdout",
     "output_type": "stream",
     "text": "[0]\tvalidation_0-auc:0.698847\nWill train until validation_0-auc hasn't improved in 200 rounds.\n[100]\tvalidation_0-auc:0.732321\n[200]\tvalidation_0-auc:0.742045\n[300]\tvalidation_0-auc:0.752157\n[400]\tvalidation_0-auc:0.760184\n[500]\tvalidation_0-auc:0.765545\n[600]\tvalidation_0-auc:0.76919\n[700]\tvalidation_0-auc:0.771902\n[800]\tvalidation_0-auc:0.774142\n[900]\tvalidation_0-auc:0.775943\n[1000]\tvalidation_0-auc:0.777439\n[1100]\tvalidation_0-auc:0.778572\n[1200]\tvalidation_0-auc:0.779606\n[1300]\tvalidation_0-auc:0.780447\n[1400]\tvalidation_0-auc:0.781295\n[1500]\tvalidation_0-auc:0.781946\n[1600]\tvalidation_0-auc:0.782517\n[1700]\tvalidation_0-auc:0.783078\n[1800]\tvalidation_0-auc:0.783607\n[1900]\tvalidation_0-auc:0.783993\n[2000]\tvalidation_0-auc:0.784334\n[2100]\tvalidation_0-auc:0.784683\n[2200]\tvalidation_0-auc:0.784933\n[2300]\tvalidation_0-auc:0.78517\n[2400]\tvalidation_0-auc:0.785417\n[2500]\tvalidation_0-auc:0.78569\n[2600]\tvalidation_0-auc:0.785979\n[2700]\tvalidation_0-auc:0.786116\n[2800]\tvalidation_0-auc:0.786246\n[2900]\tvalidation_0-auc:0.786443\n[3000]\tvalidation_0-auc:0.7866\n[3100]\tvalidation_0-auc:0.786754\n[3200]\tvalidation_0-auc:0.786886\n[3300]\tvalidation_0-auc:0.786999\n[3400]\tvalidation_0-auc:0.787118\n[3500]\tvalidation_0-auc:0.787216\n[3600]\tvalidation_0-auc:0.78734\n[3700]\tvalidation_0-auc:0.78742\n[3800]\tvalidation_0-auc:0.787441\n[3900]\tvalidation_0-auc:0.787589\n[4000]\tvalidation_0-auc:0.78764\n[4100]\tvalidation_0-auc:0.787658\n[4200]\tvalidation_0-auc:0.787659\n[4300]\tvalidation_0-auc:0.787702\n[4400]\tvalidation_0-auc:0.787802\n[4500]\tvalidation_0-auc:0.787895\n[4600]\tvalidation_0-auc:0.787908\n[4700]\tvalidation_0-auc:0.787937\n[4800]\tvalidation_0-auc:0.787939\n[4900]\tvalidation_0-auc:0.787991\n[5000]\tvalidation_0-auc:0.787982\n[5100]\tvalidation_0-auc:0.787962\nStopping. Best iteration:\n[4939]\tvalidation_0-auc:0.788007\n\n[0]\tvalidation_0-auc:0.698594\nWill train until validation_0-auc hasn't improved in 200 rounds.\n[100]\tvalidation_0-auc:0.728957\n[200]\tvalidation_0-auc:0.738698\n[300]\tvalidation_0-auc:0.748269\n[400]\tvalidation_0-auc:0.756275\n[500]\tvalidation_0-auc:0.76154\n[600]\tvalidation_0-auc:0.7655\n[700]\tvalidation_0-auc:0.768329\n[800]\tvalidation_0-auc:0.770638\n[900]\tvalidation_0-auc:0.772614\n[1000]\tvalidation_0-auc:0.774036\n[1100]\tvalidation_0-auc:0.775408\n[1200]\tvalidation_0-auc:0.776475\n[1300]\tvalidation_0-auc:0.777373\n[1400]\tvalidation_0-auc:0.778156\n[1500]\tvalidation_0-auc:0.778772\n[1600]\tvalidation_0-auc:0.77943\n[1700]\tvalidation_0-auc:0.779972\n[1800]\tvalidation_0-auc:0.780444\n[1900]\tvalidation_0-auc:0.780869\n[2000]\tvalidation_0-auc:0.781259\n[2100]\tvalidation_0-auc:0.781702\n[2200]\tvalidation_0-auc:0.781975\n[2300]\tvalidation_0-auc:0.782327\n[2400]\tvalidation_0-auc:0.782615\n[2500]\tvalidation_0-auc:0.782865\n[2600]\tvalidation_0-auc:0.783072\n[2700]\tvalidation_0-auc:0.783291\n[2800]\tvalidation_0-auc:0.783456\n[2900]\tvalidation_0-auc:0.783673\n[3000]\tvalidation_0-auc:0.783774\n[3100]\tvalidation_0-auc:0.783897\n[3200]\tvalidation_0-auc:0.783983\n[3300]\tvalidation_0-auc:0.784069\n[3400]\tvalidation_0-auc:0.784178\n[3500]\tvalidation_0-auc:0.784234\n[3600]\tvalidation_0-auc:0.784357\n[3700]\tvalidation_0-auc:0.784438\n[3800]\tvalidation_0-auc:0.784478\n[3900]\tvalidation_0-auc:0.784512\n[4000]\tvalidation_0-auc:0.78455\n[4100]\tvalidation_0-auc:0.784584\n[4200]\tvalidation_0-auc:0.784716\n[4300]\tvalidation_0-auc:0.784755\n[4400]\tvalidation_0-auc:0.784785\n[4500]\tvalidation_0-auc:0.78484\n[4600]\tvalidation_0-auc:0.784928\n[4700]\tvalidation_0-auc:0.784974\n[4800]\tvalidation_0-auc:0.784998\n[4900]\tvalidation_0-auc:0.784982\n[5000]\tvalidation_0-auc:0.784978\nStopping. Best iteration:\n[4808]\tvalidation_0-auc:0.785009\n\nCPU times: user 6h 11min 34s, sys: 4.2 s, total: 6h 11min 39s\nWall time: 1h 32min 58s\n"
    }
   ],
   "source": [
    "%time predictions = trainNpredXgb(train, test, target, 2)"
   ]
  },
  {
   "cell_type": "code",
   "execution_count": 10,
   "metadata": {},
   "outputs": [],
   "source": [
    "# Create submission csv \n",
    "subdf = pd.DataFrame({'SK_ID_CURR': testIds, 'TARGET': predictions})"
   ]
  },
  {
   "cell_type": "code",
   "execution_count": 11,
   "metadata": {},
   "outputs": [],
   "source": [
    "subdf.to_csv('../../datatmp/data/submissionxgb.csv', index=False)"
   ]
  }
 ]
}