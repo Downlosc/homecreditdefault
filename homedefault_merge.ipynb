{
 "cells": [
  {
   "cell_type": "code",
   "execution_count": 1,
   "metadata": {},
   "outputs": [],
   "source": [
    "import pandas as pd \n",
    "import numpy as np \n",
    "import sklearn\n",
    "import matplotlib.pyplot as plt"
   ]
  },
  {
   "cell_type": "code",
   "execution_count": 4,
   "metadata": {},
   "outputs": [],
   "source": [
    "#Load preprocessed train and test \n",
    "train=pd.read_csv('../data/train.csv')\n",
    "test=pd.read_csv('../data/test.csv')"
   ]
  },
  {
   "cell_type": "code",
   "metadata": {},
   "outputs": [],
   "source": [
    "#MOTIVATION: We are not loan's domain experts, thus ... (see notes on ipad)"
   ]
  },
  {
   "cell_type": "code",
   "execution_count": 5,
   "metadata": {},
   "outputs": [],
   "source": [
    "#### 4. Merging ####\n",
    "#define a function to left join two datasets by handling separately numerical features and categorical ones\n",
    "def join_w_stats(id, df1, df2, df2_name):\n",
    "    \"\"\" Merge two dataframes (df1 and df2) by grouping df2 on id and computing the following statistics:\n",
    "            i) Mean, Min and Max and sum for numeric features\n",
    "            ii) Mean for categorical features \n",
    "        In this way, indeed, we hope to preserve the essence of the information stored in each feature after groub by\"\"\"\n",
    "\n",
    "    #drop from df2 the id column since it is not necessary and won't be used anymore\n",
    "    df2 = df2.drop([col for col in df2.columns if col.startswith('SK_ID') and col != id], axis=1)\n",
    "    newcolumns = []\n",
    "    \n",
    "    \n",
    "    #compute statistics for numerical feats, if there's any\n",
    "    numericaldf2 = df2.select_dtypes(include='number')\n",
    "    count_numericalcols = len(numericaldf2.columns)\n",
    "    if count_numericalcols > 1:\n",
    "        \n",
    "        numericaldf2[id] = df2[id]\n",
    "        numstatsdf2 = numericaldf2.groupby(id).agg(['mean', 'max', 'min', 'sum']).reset_index()\n",
    "\n",
    "        #create new columns names for each numerical feature_stat\n",
    "        for col in numstatsdf2.columns.levels[0]: \n",
    "            if col != id:\n",
    "                #loop through every subcolumn name\n",
    "                for stat in numstatsdf2.columns.levels[1][:-1]:\n",
    "                    newcolumns.append('%s_%s_%s' % (df2_name, col, stat))\n",
    "\n",
    "   \n",
    "    #compute mean for categorical feats, if there's any\n",
    "    categorical = False\n",
    "    if (len(df2.columns) - count_numericalcols) > 0:\n",
    "        categoricaldf2 = df2.select_dtypes(include='category')\n",
    "        categorical = True\n",
    "        onehotdf2 = onehot_binenc(categoricaldf2)\n",
    "        onehotdf2[id] = df2[id]\n",
    "        onehotstatsdf2 = onehotdf2.groupby(id).agg(['mean']).reset_index()\n",
    "    \n",
    "        #create new columns names for each categorical feature_stat\n",
    "        for col in onehotstatsdf2.columns.levels[0]: \n",
    "            if col != id:\n",
    "                #for categoricals the only subcolumn is the mean\n",
    "                newcolumns.append('%s_%s_mean' % (df2_name, col))\n",
    "\n",
    "\n",
    "    #merge both numerical and categorical (if there is any) statistics dsets grouped by id. And then with df1 \n",
    "    if isinstance(df2, pd.DataFrame): \n",
    "        \n",
    "        if categorical == True:\n",
    "            numstatsdf2 = numstatsdf2.join(onehotstatsdf2.set_index(id), on=id)\n",
    "            \n",
    "        #add new columns names    \n",
    "        numstatsdf2.columns = [id]+newcolumns \n",
    "\n",
    "        #left join on id df1 w/ merged statistics of df2\n",
    "        df1joindf2 = df1.join(numstatsdf2.set_index(id), on=id)\n",
    "\n",
    "\n",
    "    return df1joindf2"
   ]
  },
  {
   "cell_type": "code",
   "execution_count": 6,
   "metadata": {},
   "outputs": [],
   "source": [
    "#Shrink down as much as we can the size of the dataframes.\n",
    "#Note that every numerical value lies within the range indexed with a float/int of 32 bits\n",
    "#Moreover is wise to convert every object feature into a category one, especially if the number of unique values is far from the number of rows\n",
    "\n",
    "import sys\n",
    "\n",
    "def convert_types(df, print_info = False):\n",
    "    \n",
    "    original_memory = df.memory_usage().sum()\n",
    "    \n",
    "    # Iterate through each column\n",
    "    for c in df:\n",
    "        \n",
    "        # Convert ids and booleans to integers\n",
    "        if ('SK_ID' in c):\n",
    "            df[c] = df[c].fillna(0).astype(np.int32)\n",
    "            \n",
    "        # Convert objects to category\n",
    "        elif (df[c].dtype == 'object') and (df[c].nunique() < df.shape[0]):\n",
    "            df[c] = df[c].astype('category')\n",
    "        \n",
    "        # Booleans mapped to integers\n",
    "        elif list(df[c].unique()) == [1, 0]:\n",
    "            df[c] = df[c].astype(bool)\n",
    "        \n",
    "        # Float64 to float32\n",
    "        elif df[c].dtype == float:\n",
    "            df[c] = df[c].astype(np.float32)\n",
    "            \n",
    "        # Int64 to int32\n",
    "        elif df[c].dtype == int:\n",
    "            df[c] = df[c].astype(np.int32)\n",
    "        \n",
    "    new_memory = df.memory_usage().sum()\n",
    "    \n",
    "    if print_info:\n",
    "        print(f'Original Memory Usage: {round(original_memory / 1e9, 2)} gb.')\n",
    "        print(f'New Memory Usage: {round(new_memory / 1e9, 2)} gb.')\n",
    "        \n",
    "    return df"
   ]
  },
  {
   "cell_type": "code",
   "execution_count": 7,
   "metadata": {},
   "outputs": [],
   "source": [
    "previousApplication = pd.read_csv('../data/previous_application.csv')\n",
    "installmentsPayments = pd.read_csv('../data/installments_payments.csv')"
   ]
  },
  {
   "cell_type": "code",
   "execution_count": 8,
   "metadata": {},
   "outputs": [
    {
     "name": "stdout",
     "output_type": "stream",
     "text": "Original Memory Usage: 0.49 gb.\nNew Memory Usage: 0.16 gb.\n"
    }
   ],
   "source": [
    "previousApplication = convert_types(previousApplication, print_info=True)"
   ]
  },
  {
   "cell_type": "code",
   "execution_count": 9,
   "metadata": {},
   "outputs": [
    {
     "name": "stdout",
     "output_type": "stream",
     "text": "Original Memory Usage: 0.87 gb.\nNew Memory Usage: 0.44 gb.\n"
    }
   ],
   "source": [
    "installmentsPayments = convert_types(installmentsPayments, print_info=True)"
   ]
  },
  {
   "cell_type": "code",
   "execution_count": 10,
   "metadata": {},
   "outputs": [],
   "source": [
    "previousJOINcashBalance = join_w_stats('SK_ID_PREV', previousApplication, installmentsPayments, 'installments')"
   ]
  },
  {
   "cell_type": "code",
   "execution_count": 11,
   "metadata": {},
   "outputs": [
    {
     "data": {
      "text/plain": "20"
     },
     "execution_count": 11,
     "metadata": {},
     "output_type": "execute_result"
    }
   ],
   "source": [
    "import gc\n",
    "# Remove variables to free memory\n",
    "gc.enable()\n",
    "del previousApplication, installmentsPayments \n",
    "gc.collect()"
   ]
  },
  {
   "cell_type": "code",
   "execution_count": 12,
   "metadata": {},
   "outputs": [],
   "source": [
    "cashBalance = pd.read_csv('../data/POS_CASH_balance.csv')"
   ]
  },
  {
   "cell_type": "code",
   "execution_count": 13,
   "metadata": {},
   "outputs": [
    {
     "name": "stdout",
     "output_type": "stream",
     "text": "Original Memory Usage: 0.64 gb.\nNew Memory Usage: 0.29 gb.\n"
    }
   ],
   "source": [
    "cashBalance = convert_types(cashBalance, print_info=True)"
   ]
  },
  {
   "cell_type": "code",
   "metadata": {},
   "outputs": [],
   "source": [
    "cashBalance.head()"
   ]
  },
  {
   "cell_type": "code",
   "execution_count": 14,
   "metadata": {},
   "outputs": [
    {
     "name": "stderr",
     "output_type": "stream",
     "text": "/home/arbiterelegantiae/anaconda3/lib/python3.7/site-packages/ipykernel_launcher.py:19: SettingWithCopyWarning: \nA value is trying to be set on a copy of a slice from a DataFrame.\nTry using .loc[row_indexer,col_indexer] = value instead\n\nSee the caveats in the documentation: http://pandas.pydata.org/pandas-docs/stable/user_guide/indexing.html#returning-a-view-versus-a-copy\nciao\n"
    }
   ],
   "source": [
    "previousJOINcashBalanceJOINinstallments = join_w_stats('SK_ID_PREV', previousJOINcashBalance, cashBalance, 'cash')"
   ]
  },
  {
   "cell_type": "code",
   "execution_count": 15,
   "metadata": {},
   "outputs": [
    {
     "data": {
      "text/plain": "20"
     },
     "execution_count": 15,
     "metadata": {},
     "output_type": "execute_result"
    }
   ],
   "source": [
    "import gc\n",
    "# Remove variables to free memory\n",
    "gc.enable()\n",
    "del previousJOINcashBalance, cashBalance\n",
    "gc.collect()"
   ]
  },
  {
   "cell_type": "code",
   "execution_count": 16,
   "metadata": {},
   "outputs": [],
   "source": [
    "creditCardBalance = pd.read_csv('../data/credit_card_balance.csv')"
   ]
  },
  {
   "cell_type": "code",
   "execution_count": 17,
   "metadata": {},
   "outputs": [
    {
     "name": "stdout",
     "output_type": "stream",
     "text": "Original Memory Usage: 0.71 gb.\nNew Memory Usage: 0.34 gb.\n"
    }
   ],
   "source": [
    "creditCardBalance = convert_types(creditCardBalance, print_info=True)"
   ]
  },
  {
   "cell_type": "code",
   "execution_count": 18,
   "metadata": {},
   "outputs": [
    {
     "name": "stderr",
     "output_type": "stream",
     "text": "/home/arbiterelegantiae/anaconda3/lib/python3.7/site-packages/ipykernel_launcher.py:19: SettingWithCopyWarning: \nA value is trying to be set on a copy of a slice from a DataFrame.\nTry using .loc[row_indexer,col_indexer] = value instead\n\nSee the caveats in the documentation: http://pandas.pydata.org/pandas-docs/stable/user_guide/indexing.html#returning-a-view-versus-a-copy\nciao\n"
    }
   ],
   "source": [
    "previousJOINcashBalanceJOINinstallmentsJOINcreditCardBalance = join_w_stats('SK_ID_PREV', previousJOINcashBalanceJOINinstallments, creditCardBalance, 'creditcard')"
   ]
  },
  {
   "cell_type": "code",
   "execution_count": 19,
   "metadata": {},
   "outputs": [
    {
     "data": {
      "text/plain": "20"
     },
     "execution_count": 19,
     "metadata": {},
     "output_type": "execute_result"
    }
   ],
   "source": [
    "gc.enable()\n",
    "del previousJOINcashBalanceJOINinstallments, creditCardBalance\n",
    "gc.collect()"
   ]
  },
  {
   "cell_type": "code",
   "metadata": {},
   "outputs": [],
   "source": [
    "previousJOINcashBalanceJOINinstallmentsJOINcreditCardBalance.shape"
   ]
  },
  {
   "cell_type": "code",
   "execution_count": 20,
   "metadata": {},
   "outputs": [
    {
     "name": "stderr",
     "output_type": "stream",
     "text": "/home/arbiterelegantiae/anaconda3/lib/python3.7/site-packages/ipykernel_launcher.py:19: SettingWithCopyWarning: \nA value is trying to be set on a copy of a slice from a DataFrame.\nTry using .loc[row_indexer,col_indexer] = value instead\n\nSee the caveats in the documentation: http://pandas.pydata.org/pandas-docs/stable/user_guide/indexing.html#returning-a-view-versus-a-copy\nciao\n"
    }
   ],
   "source": [
    "trainJOINprev = join_w_stats('SK_ID_CURR', train, previousJOINcashBalanceJOINinstallmentsJOINcreditCardBalance, 'prev')"
   ]
  },
  {
   "cell_type": "code",
   "execution_count": 23,
   "metadata": {},
   "outputs": [
    {
     "data": {
      "text/plain": "4519"
     },
     "execution_count": 23,
     "metadata": {},
     "output_type": "execute_result"
    }
   ],
   "source": [
    "gc.enable()\n",
    "del previousJOINcashBalanceJOINinstallmentsJOINcreditCardBalance, train\n",
    "gc.collect()"
   ]
  },
  {
   "cell_type": "code",
   "execution_count": 24,
   "metadata": {},
   "outputs": [
    {
     "data": {
      "text/plain": "(307511, 917)"
     },
     "execution_count": 24,
     "metadata": {},
     "output_type": "execute_result"
    }
   ],
   "source": [
    "trainJOINprev.shape"
   ]
  },
  {
   "cell_type": "code",
   "execution_count": 27,
   "metadata": {},
   "outputs": [],
   "source": [
    "# remove all features with more than 70% of N.a.N\n",
    "def remove_missing_columns(df, threshold = 60):\n",
    "    # Calculate missing stats for df (remember to calculate a percent!)\n",
    "    df_miss = pd.DataFrame(df.isnull().sum())\n",
    "    df_miss['percent'] = 100 * df_miss[0] / len(df)\n",
    "    \n",
    "    \n",
    "    # list of missing columns for df\n",
    "    missing_df_columns = list(df_miss.index[df_miss['percent'] > threshold])\n",
    "    \n",
    "    # Print information\n",
    "    print('There are %d columns with greater than %d%% missing values.' % (len(missing_df_columns), threshold))\n",
    "    \n",
    "    # Drop the missing columns and return\n",
    "    df = df.drop(columns = missing_df_columns)\n",
    "    \n",
    "    return df"
   ]
  },
  {
   "cell_type": "code",
   "execution_count": 28,
   "metadata": {},
   "outputs": [
    {
     "name": "stdout",
     "output_type": "stream",
     "text": "There are 267 columns with greater than 60% missing values.\n"
    },
    {
     "data": {
      "text/html": "<div>\n<style scoped>\n    .dataframe tbody tr th:only-of-type {\n        vertical-align: middle;\n    }\n\n    .dataframe tbody tr th {\n        vertical-align: top;\n    }\n\n    .dataframe thead th {\n        text-align: right;\n    }\n</style>\n<table border=\"1\" class=\"dataframe\">\n  <thead>\n    <tr style=\"text-align: right;\">\n      <th></th>\n      <th>SK_ID_CURR</th>\n      <th>NAME_CONTRACT_TYPE</th>\n      <th>FLAG_OWN_CAR</th>\n      <th>FLAG_OWN_REALTY</th>\n      <th>AMT_CREDIT</th>\n      <th>AMT_ANNUITY</th>\n      <th>AMT_GOODS_PRICE</th>\n      <th>REGION_POPULATION_RELATIVE</th>\n      <th>DAYS_BIRTH</th>\n      <th>DAYS_EMPLOYED</th>\n      <th>...</th>\n      <th>prev_PRODUCT_COMBINATION_Cash X-Sell: low_mean</th>\n      <th>prev_PRODUCT_COMBINATION_Cash X-Sell: middle_mean</th>\n      <th>prev_PRODUCT_COMBINATION_POS household with interest_mean</th>\n      <th>prev_PRODUCT_COMBINATION_POS household without interest_mean</th>\n      <th>prev_PRODUCT_COMBINATION_POS industry with interest_mean</th>\n      <th>prev_PRODUCT_COMBINATION_POS industry without interest_mean</th>\n      <th>prev_PRODUCT_COMBINATION_POS mobile with interest_mean</th>\n      <th>prev_PRODUCT_COMBINATION_POS mobile without interest_mean</th>\n      <th>prev_PRODUCT_COMBINATION_POS other with interest_mean</th>\n      <th>prev_PRODUCT_COMBINATION_POS others without interest_mean</th>\n    </tr>\n  </thead>\n  <tbody>\n    <tr>\n      <th>0</th>\n      <td>100002.0</td>\n      <td>0.0</td>\n      <td>0.0</td>\n      <td>1.0</td>\n      <td>406597.5</td>\n      <td>24700.5</td>\n      <td>351000.0</td>\n      <td>0.018801</td>\n      <td>-9461.0</td>\n      <td>-637.0</td>\n      <td>...</td>\n      <td>0.000000</td>\n      <td>0.00</td>\n      <td>0.000000</td>\n      <td>0.0</td>\n      <td>0.000000</td>\n      <td>0.0</td>\n      <td>0.000000</td>\n      <td>0.0</td>\n      <td>1.0</td>\n      <td>0.0</td>\n    </tr>\n    <tr>\n      <th>1</th>\n      <td>100003.0</td>\n      <td>0.0</td>\n      <td>0.0</td>\n      <td>0.0</td>\n      <td>1293502.5</td>\n      <td>35698.5</td>\n      <td>1129500.0</td>\n      <td>0.003541</td>\n      <td>-16765.0</td>\n      <td>-1188.0</td>\n      <td>...</td>\n      <td>0.333333</td>\n      <td>0.00</td>\n      <td>0.333333</td>\n      <td>0.0</td>\n      <td>0.333333</td>\n      <td>0.0</td>\n      <td>0.000000</td>\n      <td>0.0</td>\n      <td>0.0</td>\n      <td>0.0</td>\n    </tr>\n    <tr>\n      <th>2</th>\n      <td>100004.0</td>\n      <td>1.0</td>\n      <td>1.0</td>\n      <td>1.0</td>\n      <td>135000.0</td>\n      <td>6750.0</td>\n      <td>135000.0</td>\n      <td>0.010032</td>\n      <td>-19046.0</td>\n      <td>-225.0</td>\n      <td>...</td>\n      <td>0.000000</td>\n      <td>0.00</td>\n      <td>0.000000</td>\n      <td>0.0</td>\n      <td>0.000000</td>\n      <td>0.0</td>\n      <td>0.000000</td>\n      <td>1.0</td>\n      <td>0.0</td>\n      <td>0.0</td>\n    </tr>\n    <tr>\n      <th>3</th>\n      <td>100006.0</td>\n      <td>0.0</td>\n      <td>0.0</td>\n      <td>1.0</td>\n      <td>312682.5</td>\n      <td>29686.5</td>\n      <td>297000.0</td>\n      <td>0.008019</td>\n      <td>-19005.0</td>\n      <td>-3039.0</td>\n      <td>...</td>\n      <td>0.222222</td>\n      <td>0.00</td>\n      <td>0.111111</td>\n      <td>0.0</td>\n      <td>0.111111</td>\n      <td>0.0</td>\n      <td>0.000000</td>\n      <td>0.0</td>\n      <td>0.0</td>\n      <td>0.0</td>\n    </tr>\n    <tr>\n      <th>4</th>\n      <td>100007.0</td>\n      <td>0.0</td>\n      <td>0.0</td>\n      <td>1.0</td>\n      <td>513000.0</td>\n      <td>21865.5</td>\n      <td>513000.0</td>\n      <td>0.028663</td>\n      <td>-19932.0</td>\n      <td>-3038.0</td>\n      <td>...</td>\n      <td>0.000000</td>\n      <td>0.50</td>\n      <td>0.166667</td>\n      <td>0.0</td>\n      <td>0.000000</td>\n      <td>0.0</td>\n      <td>0.166667</td>\n      <td>0.0</td>\n      <td>0.0</td>\n      <td>0.0</td>\n    </tr>\n    <tr>\n      <th>...</th>\n      <td>...</td>\n      <td>...</td>\n      <td>...</td>\n      <td>...</td>\n      <td>...</td>\n      <td>...</td>\n      <td>...</td>\n      <td>...</td>\n      <td>...</td>\n      <td>...</td>\n      <td>...</td>\n      <td>...</td>\n      <td>...</td>\n      <td>...</td>\n      <td>...</td>\n      <td>...</td>\n      <td>...</td>\n      <td>...</td>\n      <td>...</td>\n      <td>...</td>\n      <td>...</td>\n    </tr>\n    <tr>\n      <th>307506</th>\n      <td>456251.0</td>\n      <td>0.0</td>\n      <td>0.0</td>\n      <td>0.0</td>\n      <td>254700.0</td>\n      <td>27558.0</td>\n      <td>225000.0</td>\n      <td>0.032561</td>\n      <td>-9327.0</td>\n      <td>-236.0</td>\n      <td>...</td>\n      <td>0.000000</td>\n      <td>0.00</td>\n      <td>0.000000</td>\n      <td>0.0</td>\n      <td>0.000000</td>\n      <td>0.0</td>\n      <td>1.000000</td>\n      <td>0.0</td>\n      <td>0.0</td>\n      <td>0.0</td>\n    </tr>\n    <tr>\n      <th>307507</th>\n      <td>456252.0</td>\n      <td>0.0</td>\n      <td>0.0</td>\n      <td>1.0</td>\n      <td>269550.0</td>\n      <td>12001.5</td>\n      <td>225000.0</td>\n      <td>0.025164</td>\n      <td>-20775.0</td>\n      <td>-1648.0</td>\n      <td>...</td>\n      <td>0.000000</td>\n      <td>0.00</td>\n      <td>0.000000</td>\n      <td>1.0</td>\n      <td>0.000000</td>\n      <td>0.0</td>\n      <td>0.000000</td>\n      <td>0.0</td>\n      <td>0.0</td>\n      <td>0.0</td>\n    </tr>\n    <tr>\n      <th>307508</th>\n      <td>456253.0</td>\n      <td>0.0</td>\n      <td>0.0</td>\n      <td>1.0</td>\n      <td>677664.0</td>\n      <td>29979.0</td>\n      <td>585000.0</td>\n      <td>0.005002</td>\n      <td>-14966.0</td>\n      <td>-7921.0</td>\n      <td>...</td>\n      <td>0.000000</td>\n      <td>0.00</td>\n      <td>0.000000</td>\n      <td>0.0</td>\n      <td>0.000000</td>\n      <td>0.0</td>\n      <td>1.000000</td>\n      <td>0.0</td>\n      <td>0.0</td>\n      <td>0.0</td>\n    </tr>\n    <tr>\n      <th>307509</th>\n      <td>456254.0</td>\n      <td>0.0</td>\n      <td>0.0</td>\n      <td>1.0</td>\n      <td>370107.0</td>\n      <td>20205.0</td>\n      <td>319500.0</td>\n      <td>0.005313</td>\n      <td>-11961.0</td>\n      <td>-4786.0</td>\n      <td>...</td>\n      <td>0.000000</td>\n      <td>0.00</td>\n      <td>0.500000</td>\n      <td>0.0</td>\n      <td>0.000000</td>\n      <td>0.0</td>\n      <td>0.500000</td>\n      <td>0.0</td>\n      <td>0.0</td>\n      <td>0.0</td>\n    </tr>\n    <tr>\n      <th>307510</th>\n      <td>456255.0</td>\n      <td>0.0</td>\n      <td>0.0</td>\n      <td>0.0</td>\n      <td>675000.0</td>\n      <td>49117.5</td>\n      <td>675000.0</td>\n      <td>0.046220</td>\n      <td>-16856.0</td>\n      <td>-1262.0</td>\n      <td>...</td>\n      <td>0.125000</td>\n      <td>0.25</td>\n      <td>0.000000</td>\n      <td>0.0</td>\n      <td>0.125000</td>\n      <td>0.0</td>\n      <td>0.250000</td>\n      <td>0.0</td>\n      <td>0.0</td>\n      <td>0.0</td>\n    </tr>\n  </tbody>\n</table>\n<p>307511 rows × 650 columns</p>\n</div>",
      "text/plain": "        SK_ID_CURR  NAME_CONTRACT_TYPE  FLAG_OWN_CAR  FLAG_OWN_REALTY  \\\n0         100002.0                 0.0           0.0              1.0   \n1         100003.0                 0.0           0.0              0.0   \n2         100004.0                 1.0           1.0              1.0   \n3         100006.0                 0.0           0.0              1.0   \n4         100007.0                 0.0           0.0              1.0   \n...            ...                 ...           ...              ...   \n307506    456251.0                 0.0           0.0              0.0   \n307507    456252.0                 0.0           0.0              1.0   \n307508    456253.0                 0.0           0.0              1.0   \n307509    456254.0                 0.0           0.0              1.0   \n307510    456255.0                 0.0           0.0              0.0   \n\n        AMT_CREDIT  AMT_ANNUITY  AMT_GOODS_PRICE  REGION_POPULATION_RELATIVE  \\\n0         406597.5      24700.5         351000.0                    0.018801   \n1        1293502.5      35698.5        1129500.0                    0.003541   \n2         135000.0       6750.0         135000.0                    0.010032   \n3         312682.5      29686.5         297000.0                    0.008019   \n4         513000.0      21865.5         513000.0                    0.028663   \n...            ...          ...              ...                         ...   \n307506    254700.0      27558.0         225000.0                    0.032561   \n307507    269550.0      12001.5         225000.0                    0.025164   \n307508    677664.0      29979.0         585000.0                    0.005002   \n307509    370107.0      20205.0         319500.0                    0.005313   \n307510    675000.0      49117.5         675000.0                    0.046220   \n\n        DAYS_BIRTH  DAYS_EMPLOYED  ...  \\\n0          -9461.0         -637.0  ...   \n1         -16765.0        -1188.0  ...   \n2         -19046.0         -225.0  ...   \n3         -19005.0        -3039.0  ...   \n4         -19932.0        -3038.0  ...   \n...            ...            ...  ...   \n307506     -9327.0         -236.0  ...   \n307507    -20775.0        -1648.0  ...   \n307508    -14966.0        -7921.0  ...   \n307509    -11961.0        -4786.0  ...   \n307510    -16856.0        -1262.0  ...   \n\n        prev_PRODUCT_COMBINATION_Cash X-Sell: low_mean  \\\n0                                             0.000000   \n1                                             0.333333   \n2                                             0.000000   \n3                                             0.222222   \n4                                             0.000000   \n...                                                ...   \n307506                                        0.000000   \n307507                                        0.000000   \n307508                                        0.000000   \n307509                                        0.000000   \n307510                                        0.125000   \n\n        prev_PRODUCT_COMBINATION_Cash X-Sell: middle_mean  \\\n0                                                    0.00   \n1                                                    0.00   \n2                                                    0.00   \n3                                                    0.00   \n4                                                    0.50   \n...                                                   ...   \n307506                                               0.00   \n307507                                               0.00   \n307508                                               0.00   \n307509                                               0.00   \n307510                                               0.25   \n\n        prev_PRODUCT_COMBINATION_POS household with interest_mean  \\\n0                                                0.000000           \n1                                                0.333333           \n2                                                0.000000           \n3                                                0.111111           \n4                                                0.166667           \n...                                                   ...           \n307506                                           0.000000           \n307507                                           0.000000           \n307508                                           0.000000           \n307509                                           0.500000           \n307510                                           0.000000           \n\n        prev_PRODUCT_COMBINATION_POS household without interest_mean  \\\n0                                                     0.0              \n1                                                     0.0              \n2                                                     0.0              \n3                                                     0.0              \n4                                                     0.0              \n...                                                   ...              \n307506                                                0.0              \n307507                                                1.0              \n307508                                                0.0              \n307509                                                0.0              \n307510                                                0.0              \n\n        prev_PRODUCT_COMBINATION_POS industry with interest_mean  \\\n0                                                0.000000          \n1                                                0.333333          \n2                                                0.000000          \n3                                                0.111111          \n4                                                0.000000          \n...                                                   ...          \n307506                                           0.000000          \n307507                                           0.000000          \n307508                                           0.000000          \n307509                                           0.000000          \n307510                                           0.125000          \n\n        prev_PRODUCT_COMBINATION_POS industry without interest_mean  \\\n0                                                     0.0             \n1                                                     0.0             \n2                                                     0.0             \n3                                                     0.0             \n4                                                     0.0             \n...                                                   ...             \n307506                                                0.0             \n307507                                                0.0             \n307508                                                0.0             \n307509                                                0.0             \n307510                                                0.0             \n\n        prev_PRODUCT_COMBINATION_POS mobile with interest_mean  \\\n0                                                0.000000        \n1                                                0.000000        \n2                                                0.000000        \n3                                                0.000000        \n4                                                0.166667        \n...                                                   ...        \n307506                                           1.000000        \n307507                                           0.000000        \n307508                                           1.000000        \n307509                                           0.500000        \n307510                                           0.250000        \n\n        prev_PRODUCT_COMBINATION_POS mobile without interest_mean  \\\n0                                                     0.0           \n1                                                     0.0           \n2                                                     1.0           \n3                                                     0.0           \n4                                                     0.0           \n...                                                   ...           \n307506                                                0.0           \n307507                                                0.0           \n307508                                                0.0           \n307509                                                0.0           \n307510                                                0.0           \n\n        prev_PRODUCT_COMBINATION_POS other with interest_mean  \\\n0                                                     1.0       \n1                                                     0.0       \n2                                                     0.0       \n3                                                     0.0       \n4                                                     0.0       \n...                                                   ...       \n307506                                                0.0       \n307507                                                0.0       \n307508                                                0.0       \n307509                                                0.0       \n307510                                                0.0       \n\n        prev_PRODUCT_COMBINATION_POS others without interest_mean  \n0                                                     0.0          \n1                                                     0.0          \n2                                                     0.0          \n3                                                     0.0          \n4                                                     0.0          \n...                                                   ...          \n307506                                                0.0          \n307507                                                0.0          \n307508                                                0.0          \n307509                                                0.0          \n307510                                                0.0          \n\n[307511 rows x 650 columns]"
     },
     "execution_count": 28,
     "metadata": {},
     "output_type": "execute_result"
    }
   ],
   "source": [
    "#drop all the new computed features that we consider no-influent from trainJOINprev\n",
    "remove_missing_columns(trainJOINprev)\n"
   ]
  },
  {
   "cell_type": "code",
   "execution_count": 30,
   "metadata": {},
   "outputs": [],
   "source": [
    "trainJOINprev.to_csv('../data/trainjoinprev.csv', index=False)"
   ]
  },
  {
   "cell_type": "code",
   "execution_count": 29,
   "metadata": {},
   "outputs": [],
   "source": [
    "bureauBalance = pd.read_csv('../data/bureau_balance.csv')\n",
    "bureau = pd.read_csv('../data/bureau.csv')"
   ]
  },
  {
   "cell_type": "code",
   "execution_count": 31,
   "metadata": {},
   "outputs": [
    {
     "name": "stdout",
     "output_type": "stream",
     "text": "Original Memory Usage: 0.66 gb.\nNew Memory Usage: 0.25 gb.\nOriginal Memory Usage: 0.23 gb.\nNew Memory Usage: 0.1 gb.\n"
    }
   ],
   "source": [
    "bureauBalance = convert_types(bureauBalance, print_info=True)\n",
    "bureau = convert_types(bureau, print_info=True)"
   ]
  },
  {
   "cell_type": "code",
   "execution_count": 32,
   "metadata": {},
   "outputs": [
    {
     "name": "stderr",
     "output_type": "stream",
     "text": "/home/arbiterelegantiae/anaconda3/lib/python3.7/site-packages/ipykernel_launcher.py:19: SettingWithCopyWarning: \nA value is trying to be set on a copy of a slice from a DataFrame.\nTry using .loc[row_indexer,col_indexer] = value instead\n\nSee the caveats in the documentation: http://pandas.pydata.org/pandas-docs/stable/user_guide/indexing.html#returning-a-view-versus-a-copy\nciao\n"
    }
   ],
   "source": [
    "bureauJOINbureauBalance = join_w_stats('SK_ID_BUREAU', bureau, bureauBalance, 'bureauBalance')"
   ]
  },
  {
   "cell_type": "code",
   "execution_count": 33,
   "metadata": {},
   "outputs": [
    {
     "data": {
      "text/plain": "1608"
     },
     "execution_count": 33,
     "metadata": {},
     "output_type": "execute_result"
    }
   ],
   "source": [
    "gc.enable()\n",
    "del bureau, bureauBalance\n",
    "gc.collect()"
   ]
  },
  {
   "cell_type": "code",
   "execution_count": 36,
   "metadata": {},
   "outputs": [
    {
     "name": "stderr",
     "output_type": "stream",
     "text": "/home/arbiterelegantiae/anaconda3/lib/python3.7/site-packages/ipykernel_launcher.py:19: SettingWithCopyWarning: \nA value is trying to be set on a copy of a slice from a DataFrame.\nTry using .loc[row_indexer,col_indexer] = value instead\n\nSee the caveats in the documentation: http://pandas.pydata.org/pandas-docs/stable/user_guide/indexing.html#returning-a-view-versus-a-copy\nciao\n"
    }
   ],
   "source": [
    "trainJoined = join_w_stats('SK_ID_CURR', trainJOINprev, bureauJOINbureauBalance, 'bureau')"
   ]
  },
  {
   "cell_type": "code",
   "execution_count": 37,
   "metadata": {},
   "outputs": [
    {
     "data": {
      "text/plain": "4769"
     },
     "execution_count": 37,
     "metadata": {},
     "output_type": "execute_result"
    }
   ],
   "source": [
    "gc.enable()\n",
    "del trainJOINprev, bureauJOINbureauBalance\n",
    "gc.collect()"
   ]
  },
  {
   "cell_type": "code",
   "execution_count": 38,
   "metadata": {},
   "outputs": [
    {
     "data": {
      "text/plain": "(307511, 1036)"
     },
     "execution_count": 38,
     "metadata": {},
     "output_type": "execute_result"
    }
   ],
   "source": [
    "trainJoined.shape"
   ]
  },
  {
   "cell_type": "code",
   "execution_count": 39,
   "metadata": {},
   "outputs": [
    {
     "name": "stdout",
     "output_type": "stream",
     "text": "There are 306 columns with greater than 60% missing values.\n"
    },
    {
     "data": {
      "text/html": "<div>\n<style scoped>\n    .dataframe tbody tr th:only-of-type {\n        vertical-align: middle;\n    }\n\n    .dataframe tbody tr th {\n        vertical-align: top;\n    }\n\n    .dataframe thead th {\n        text-align: right;\n    }\n</style>\n<table border=\"1\" class=\"dataframe\">\n  <thead>\n    <tr style=\"text-align: right;\">\n      <th></th>\n      <th>SK_ID_CURR</th>\n      <th>NAME_CONTRACT_TYPE</th>\n      <th>FLAG_OWN_CAR</th>\n      <th>FLAG_OWN_REALTY</th>\n      <th>AMT_CREDIT</th>\n      <th>AMT_ANNUITY</th>\n      <th>AMT_GOODS_PRICE</th>\n      <th>REGION_POPULATION_RELATIVE</th>\n      <th>DAYS_BIRTH</th>\n      <th>DAYS_EMPLOYED</th>\n      <th>...</th>\n      <th>bureau_CREDIT_TYPE_Interbank credit_mean</th>\n      <th>bureau_CREDIT_TYPE_Loan for business development_mean</th>\n      <th>bureau_CREDIT_TYPE_Loan for purchase of shares (margin lending)_mean</th>\n      <th>bureau_CREDIT_TYPE_Loan for the purchase of equipment_mean</th>\n      <th>bureau_CREDIT_TYPE_Loan for working capital replenishment_mean</th>\n      <th>bureau_CREDIT_TYPE_Microloan_mean</th>\n      <th>bureau_CREDIT_TYPE_Mobile operator loan_mean</th>\n      <th>bureau_CREDIT_TYPE_Mortgage_mean</th>\n      <th>bureau_CREDIT_TYPE_Real estate loan_mean</th>\n      <th>bureau_CREDIT_TYPE_Unknown type of loan_mean</th>\n    </tr>\n  </thead>\n  <tbody>\n    <tr>\n      <th>0</th>\n      <td>100002.0</td>\n      <td>0.0</td>\n      <td>0.0</td>\n      <td>1.0</td>\n      <td>406597.5</td>\n      <td>24700.5</td>\n      <td>351000.0</td>\n      <td>0.018801</td>\n      <td>-9461.0</td>\n      <td>-637.0</td>\n      <td>...</td>\n      <td>0.0</td>\n      <td>0.0</td>\n      <td>0.0</td>\n      <td>0.0</td>\n      <td>0.0</td>\n      <td>0.0</td>\n      <td>0.0</td>\n      <td>0.0</td>\n      <td>0.0</td>\n      <td>0.0</td>\n    </tr>\n    <tr>\n      <th>1</th>\n      <td>100003.0</td>\n      <td>0.0</td>\n      <td>0.0</td>\n      <td>0.0</td>\n      <td>1293502.5</td>\n      <td>35698.5</td>\n      <td>1129500.0</td>\n      <td>0.003541</td>\n      <td>-16765.0</td>\n      <td>-1188.0</td>\n      <td>...</td>\n      <td>0.0</td>\n      <td>0.0</td>\n      <td>0.0</td>\n      <td>0.0</td>\n      <td>0.0</td>\n      <td>0.0</td>\n      <td>0.0</td>\n      <td>0.0</td>\n      <td>0.0</td>\n      <td>0.0</td>\n    </tr>\n    <tr>\n      <th>2</th>\n      <td>100004.0</td>\n      <td>1.0</td>\n      <td>1.0</td>\n      <td>1.0</td>\n      <td>135000.0</td>\n      <td>6750.0</td>\n      <td>135000.0</td>\n      <td>0.010032</td>\n      <td>-19046.0</td>\n      <td>-225.0</td>\n      <td>...</td>\n      <td>0.0</td>\n      <td>0.0</td>\n      <td>0.0</td>\n      <td>0.0</td>\n      <td>0.0</td>\n      <td>0.0</td>\n      <td>0.0</td>\n      <td>0.0</td>\n      <td>0.0</td>\n      <td>0.0</td>\n    </tr>\n    <tr>\n      <th>3</th>\n      <td>100006.0</td>\n      <td>0.0</td>\n      <td>0.0</td>\n      <td>1.0</td>\n      <td>312682.5</td>\n      <td>29686.5</td>\n      <td>297000.0</td>\n      <td>0.008019</td>\n      <td>-19005.0</td>\n      <td>-3039.0</td>\n      <td>...</td>\n      <td>NaN</td>\n      <td>NaN</td>\n      <td>NaN</td>\n      <td>NaN</td>\n      <td>NaN</td>\n      <td>NaN</td>\n      <td>NaN</td>\n      <td>NaN</td>\n      <td>NaN</td>\n      <td>NaN</td>\n    </tr>\n    <tr>\n      <th>4</th>\n      <td>100007.0</td>\n      <td>0.0</td>\n      <td>0.0</td>\n      <td>1.0</td>\n      <td>513000.0</td>\n      <td>21865.5</td>\n      <td>513000.0</td>\n      <td>0.028663</td>\n      <td>-19932.0</td>\n      <td>-3038.0</td>\n      <td>...</td>\n      <td>0.0</td>\n      <td>0.0</td>\n      <td>0.0</td>\n      <td>0.0</td>\n      <td>0.0</td>\n      <td>0.0</td>\n      <td>0.0</td>\n      <td>0.0</td>\n      <td>0.0</td>\n      <td>0.0</td>\n    </tr>\n    <tr>\n      <th>...</th>\n      <td>...</td>\n      <td>...</td>\n      <td>...</td>\n      <td>...</td>\n      <td>...</td>\n      <td>...</td>\n      <td>...</td>\n      <td>...</td>\n      <td>...</td>\n      <td>...</td>\n      <td>...</td>\n      <td>...</td>\n      <td>...</td>\n      <td>...</td>\n      <td>...</td>\n      <td>...</td>\n      <td>...</td>\n      <td>...</td>\n      <td>...</td>\n      <td>...</td>\n      <td>...</td>\n    </tr>\n    <tr>\n      <th>307506</th>\n      <td>456251.0</td>\n      <td>0.0</td>\n      <td>0.0</td>\n      <td>0.0</td>\n      <td>254700.0</td>\n      <td>27558.0</td>\n      <td>225000.0</td>\n      <td>0.032561</td>\n      <td>-9327.0</td>\n      <td>-236.0</td>\n      <td>...</td>\n      <td>NaN</td>\n      <td>NaN</td>\n      <td>NaN</td>\n      <td>NaN</td>\n      <td>NaN</td>\n      <td>NaN</td>\n      <td>NaN</td>\n      <td>NaN</td>\n      <td>NaN</td>\n      <td>NaN</td>\n    </tr>\n    <tr>\n      <th>307507</th>\n      <td>456252.0</td>\n      <td>0.0</td>\n      <td>0.0</td>\n      <td>1.0</td>\n      <td>269550.0</td>\n      <td>12001.5</td>\n      <td>225000.0</td>\n      <td>0.025164</td>\n      <td>-20775.0</td>\n      <td>-1648.0</td>\n      <td>...</td>\n      <td>NaN</td>\n      <td>NaN</td>\n      <td>NaN</td>\n      <td>NaN</td>\n      <td>NaN</td>\n      <td>NaN</td>\n      <td>NaN</td>\n      <td>NaN</td>\n      <td>NaN</td>\n      <td>NaN</td>\n    </tr>\n    <tr>\n      <th>307508</th>\n      <td>456253.0</td>\n      <td>0.0</td>\n      <td>0.0</td>\n      <td>1.0</td>\n      <td>677664.0</td>\n      <td>29979.0</td>\n      <td>585000.0</td>\n      <td>0.005002</td>\n      <td>-14966.0</td>\n      <td>-7921.0</td>\n      <td>...</td>\n      <td>0.0</td>\n      <td>0.0</td>\n      <td>0.0</td>\n      <td>0.0</td>\n      <td>0.0</td>\n      <td>0.0</td>\n      <td>0.0</td>\n      <td>0.0</td>\n      <td>0.0</td>\n      <td>0.0</td>\n    </tr>\n    <tr>\n      <th>307509</th>\n      <td>456254.0</td>\n      <td>0.0</td>\n      <td>0.0</td>\n      <td>1.0</td>\n      <td>370107.0</td>\n      <td>20205.0</td>\n      <td>319500.0</td>\n      <td>0.005313</td>\n      <td>-11961.0</td>\n      <td>-4786.0</td>\n      <td>...</td>\n      <td>0.0</td>\n      <td>0.0</td>\n      <td>0.0</td>\n      <td>0.0</td>\n      <td>0.0</td>\n      <td>0.0</td>\n      <td>0.0</td>\n      <td>0.0</td>\n      <td>0.0</td>\n      <td>0.0</td>\n    </tr>\n    <tr>\n      <th>307510</th>\n      <td>456255.0</td>\n      <td>0.0</td>\n      <td>0.0</td>\n      <td>0.0</td>\n      <td>675000.0</td>\n      <td>49117.5</td>\n      <td>675000.0</td>\n      <td>0.046220</td>\n      <td>-16856.0</td>\n      <td>-1262.0</td>\n      <td>...</td>\n      <td>0.0</td>\n      <td>0.0</td>\n      <td>0.0</td>\n      <td>0.0</td>\n      <td>0.0</td>\n      <td>0.0</td>\n      <td>0.0</td>\n      <td>0.0</td>\n      <td>0.0</td>\n      <td>0.0</td>\n    </tr>\n  </tbody>\n</table>\n<p>307511 rows × 730 columns</p>\n</div>",
      "text/plain": "        SK_ID_CURR  NAME_CONTRACT_TYPE  FLAG_OWN_CAR  FLAG_OWN_REALTY  \\\n0         100002.0                 0.0           0.0              1.0   \n1         100003.0                 0.0           0.0              0.0   \n2         100004.0                 1.0           1.0              1.0   \n3         100006.0                 0.0           0.0              1.0   \n4         100007.0                 0.0           0.0              1.0   \n...            ...                 ...           ...              ...   \n307506    456251.0                 0.0           0.0              0.0   \n307507    456252.0                 0.0           0.0              1.0   \n307508    456253.0                 0.0           0.0              1.0   \n307509    456254.0                 0.0           0.0              1.0   \n307510    456255.0                 0.0           0.0              0.0   \n\n        AMT_CREDIT  AMT_ANNUITY  AMT_GOODS_PRICE  REGION_POPULATION_RELATIVE  \\\n0         406597.5      24700.5         351000.0                    0.018801   \n1        1293502.5      35698.5        1129500.0                    0.003541   \n2         135000.0       6750.0         135000.0                    0.010032   \n3         312682.5      29686.5         297000.0                    0.008019   \n4         513000.0      21865.5         513000.0                    0.028663   \n...            ...          ...              ...                         ...   \n307506    254700.0      27558.0         225000.0                    0.032561   \n307507    269550.0      12001.5         225000.0                    0.025164   \n307508    677664.0      29979.0         585000.0                    0.005002   \n307509    370107.0      20205.0         319500.0                    0.005313   \n307510    675000.0      49117.5         675000.0                    0.046220   \n\n        DAYS_BIRTH  DAYS_EMPLOYED  ...  \\\n0          -9461.0         -637.0  ...   \n1         -16765.0        -1188.0  ...   \n2         -19046.0         -225.0  ...   \n3         -19005.0        -3039.0  ...   \n4         -19932.0        -3038.0  ...   \n...            ...            ...  ...   \n307506     -9327.0         -236.0  ...   \n307507    -20775.0        -1648.0  ...   \n307508    -14966.0        -7921.0  ...   \n307509    -11961.0        -4786.0  ...   \n307510    -16856.0        -1262.0  ...   \n\n        bureau_CREDIT_TYPE_Interbank credit_mean  \\\n0                                            0.0   \n1                                            0.0   \n2                                            0.0   \n3                                            NaN   \n4                                            0.0   \n...                                          ...   \n307506                                       NaN   \n307507                                       NaN   \n307508                                       0.0   \n307509                                       0.0   \n307510                                       0.0   \n\n        bureau_CREDIT_TYPE_Loan for business development_mean  \\\n0                                                     0.0       \n1                                                     0.0       \n2                                                     0.0       \n3                                                     NaN       \n4                                                     0.0       \n...                                                   ...       \n307506                                                NaN       \n307507                                                NaN       \n307508                                                0.0       \n307509                                                0.0       \n307510                                                0.0       \n\n        bureau_CREDIT_TYPE_Loan for purchase of shares (margin lending)_mean  \\\n0                                                     0.0                      \n1                                                     0.0                      \n2                                                     0.0                      \n3                                                     NaN                      \n4                                                     0.0                      \n...                                                   ...                      \n307506                                                NaN                      \n307507                                                NaN                      \n307508                                                0.0                      \n307509                                                0.0                      \n307510                                                0.0                      \n\n        bureau_CREDIT_TYPE_Loan for the purchase of equipment_mean  \\\n0                                                     0.0            \n1                                                     0.0            \n2                                                     0.0            \n3                                                     NaN            \n4                                                     0.0            \n...                                                   ...            \n307506                                                NaN            \n307507                                                NaN            \n307508                                                0.0            \n307509                                                0.0            \n307510                                                0.0            \n\n        bureau_CREDIT_TYPE_Loan for working capital replenishment_mean  \\\n0                                                     0.0                \n1                                                     0.0                \n2                                                     0.0                \n3                                                     NaN                \n4                                                     0.0                \n...                                                   ...                \n307506                                                NaN                \n307507                                                NaN                \n307508                                                0.0                \n307509                                                0.0                \n307510                                                0.0                \n\n        bureau_CREDIT_TYPE_Microloan_mean  \\\n0                                     0.0   \n1                                     0.0   \n2                                     0.0   \n3                                     NaN   \n4                                     0.0   \n...                                   ...   \n307506                                NaN   \n307507                                NaN   \n307508                                0.0   \n307509                                0.0   \n307510                                0.0   \n\n        bureau_CREDIT_TYPE_Mobile operator loan_mean  \\\n0                                                0.0   \n1                                                0.0   \n2                                                0.0   \n3                                                NaN   \n4                                                0.0   \n...                                              ...   \n307506                                           NaN   \n307507                                           NaN   \n307508                                           0.0   \n307509                                           0.0   \n307510                                           0.0   \n\n        bureau_CREDIT_TYPE_Mortgage_mean  \\\n0                                    0.0   \n1                                    0.0   \n2                                    0.0   \n3                                    NaN   \n4                                    0.0   \n...                                  ...   \n307506                               NaN   \n307507                               NaN   \n307508                               0.0   \n307509                               0.0   \n307510                               0.0   \n\n        bureau_CREDIT_TYPE_Real estate loan_mean  \\\n0                                            0.0   \n1                                            0.0   \n2                                            0.0   \n3                                            NaN   \n4                                            0.0   \n...                                          ...   \n307506                                       NaN   \n307507                                       NaN   \n307508                                       0.0   \n307509                                       0.0   \n307510                                       0.0   \n\n        bureau_CREDIT_TYPE_Unknown type of loan_mean  \n0                                                0.0  \n1                                                0.0  \n2                                                0.0  \n3                                                NaN  \n4                                                0.0  \n...                                              ...  \n307506                                           NaN  \n307507                                           NaN  \n307508                                           0.0  \n307509                                           0.0  \n307510                                           0.0  \n\n[307511 rows x 730 columns]"
     },
     "execution_count": 39,
     "metadata": {},
     "output_type": "execute_result"
    }
   ],
   "source": [
    "remove_missing_columns(trainJoined)"
   ]
  },
  {
   "cell_type": "code",
   "execution_count": null,
   "metadata": {},
   "outputs": [],
   "source": [
    "# do the same mergings to for test as well and drop 60% empty columns \n",
    "# pca to reduce feature space? collinearity? correlations? noisy features removal? Tikhonov regularization \n",
    "# train model with boost library\n"
   ]
  },
  {
   "cell_type": "code",
   "execution_count": null,
   "metadata": {},
   "outputs": [],
   "source": [
    "# Continue to the feat engineering phase"
   ]
  }
 ],
 "metadata": {
  "file_extension": ".py",
  "kernelspec": {
   "display_name": "Python 3",
   "language": "python",
   "name": "python3"
  },
  "language_info": {
   "codemirror_mode": {
    "name": "ipython",
    "version": 3
   },
   "file_extension": ".py",
   "mimetype": "text/x-python",
   "name": "python",
   "nbconvert_exporter": "python",
   "pygments_lexer": "ipython3",
   "version": "3.7.3"
  },
  "mimetype": "text/x-python",
  "name": "python",
  "npconvert_exporter": "python",
  "pygments_lexer": "ipython3",
  "version": 3
 },
 "nbformat": 4,
 "nbformat_minor": 2
}