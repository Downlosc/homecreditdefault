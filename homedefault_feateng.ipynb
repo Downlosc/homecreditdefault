{
 "cells": [
  {
   "cell_type": "code",
   "execution_count": null,
   "metadata": {},
   "outputs": [],
   "source": [
    "## FEATURE SELECTION ##\n",
    "# In this notebook we employed a number of feature selection methods. These methods are necessary to reduce the number of features to, decrease model runtime, increase model interpretability and generalization performance"
   ]
  },
  {
   "cell_type": "code",
   "execution_count": 1,
   "metadata": {},
   "outputs": [],
   "source": [
    "import pandas as pd \n",
    "import numpy as np\n",
    "import matplotlib.pyplot as plt\n",
    "import sklearn\n",
    "import gc\n",
    "gc.enable()\n",
    "import lightgbm as lgb\n",
    "import featexp\n",
    "import utilities"
   ]
  },
  {
   "cell_type": "code",
   "execution_count": 2,
   "metadata": {},
   "outputs": [],
   "source": [
    "# Load final train\n",
    "train = utilities.read_csv('../../datatmp/data/trainjoined.csv')"
   ]
  },
  {
   "cell_type": "code",
   "execution_count": 3,
   "metadata": {},
   "outputs": [],
   "source": [
    "# For some reason we need to convert types again (perhaps loosed during alignment?)\n",
    "train = utilities.convert_types(train)"
   ]
  },
  {
   "cell_type": "code",
   "execution_count": 4,
   "metadata": {},
   "outputs": [
    {
     "data": {
      "text/plain": "(307511, 777)"
     },
     "execution_count": 4,
     "metadata": {},
     "output_type": "execute_result"
    }
   ],
   "source": [
    "train.shape"
   ]
  },
  {
   "cell_type": "code",
   "execution_count": 6,
   "metadata": {},
   "outputs": [],
   "source": [
    "# Impute the median over the remaining nan values\n",
    "from sklearn.impute import SimpleImputer \n",
    "imputer = SimpleImputer(missing_values=np.nan, strategy='median')\n",
    "\n",
    "imputer.fit(train)\n",
    "train.loc[:] = imputer.transform(train)"
   ]
  },
  {
   "cell_type": "code",
   "execution_count": 7,
   "metadata": {},
   "outputs": [
    {
     "data": {
      "text/plain": "(0,)"
     },
     "execution_count": 7,
     "metadata": {},
     "output_type": "execute_result"
    }
   ],
   "source": [
    "#check for null values\n",
    "nulls= train.isnull().sum()\n",
    "nulls= nulls[nulls > 0]\n",
    "(nulls / train.shape[0]).shape"
   ]
  },
  {
   "cell_type": "code",
   "execution_count": 8,
   "metadata": {},
   "outputs": [],
   "source": [
    "## Multicollinearity ##\n",
    "# Multicollinearity could negatively affect permutation importance later and Regression\n",
    "# Infact, when features are collinear, permutating one feature will have little effect on the models performance because it can get the same information from a correlated feature\n",
    "# Are we loosing here all the manually created features? "
   ]
  },
  {
   "cell_type": "code",
   "execution_count": 9,
   "metadata": {},
   "outputs": [],
   "source": [
    "# Compute the upper triangle of the Pearson correlation coefficient matrix. The pearson coefficient is computed between every pair of features\n",
    "corrMatrix = train.drop('TARGET', axis=1).corr().abs()\n",
    "tableCorrelations = corrMatrix.where(np.triu(np.ones(corrMatrix.shape), k=1).astype(np.bool)).stack().reset_index()"
   ]
  },
  {
   "cell_type": "code",
   "execution_count": 10,
   "metadata": {},
   "outputs": [],
   "source": [
    "# Select every highly correlated pair of features\n",
    "highCorr = [corr[1:] for corr in tableCorrelations.itertuples() if (corr[3] > 0.92)]"
   ]
  },
  {
   "cell_type": "code",
   "execution_count": 11,
   "metadata": {},
   "outputs": [
    {
     "data": {
      "text/plain": "126"
     },
     "execution_count": 11,
     "metadata": {},
     "output_type": "execute_result"
    }
   ],
   "source": [
    "del tableCorrelations\n",
    "gc.collect()"
   ]
  },
  {
   "cell_type": "code",
   "execution_count": 12,
   "metadata": {},
   "outputs": [],
   "source": [
    "# For each pair of features, select only the unique ones from the first column i.e. one from each \"cluster\" of strong collinear features\n",
    "highCollFeat = set([corr[0] for corr in highCorr])\n",
    "train.drop(highCollFeat, axis=1, inplace=True)"
   ]
  },
  {
   "cell_type": "code",
   "execution_count": 13,
   "metadata": {},
   "outputs": [
    {
     "data": {
      "text/plain": "572"
     },
     "execution_count": 13,
     "metadata": {},
     "output_type": "execute_result"
    }
   ],
   "source": [
    "# How many features are left?\n",
    "len(train.columns)"
   ]
  },
  {
   "cell_type": "code",
   "execution_count": 19,
   "metadata": {},
   "outputs": [],
   "source": [
    "test = utilities.read_csv('../../datatmp/data/testjoined.csv')"
   ]
  },
  {
   "cell_type": "code",
   "execution_count": 20,
   "metadata": {},
   "outputs": [],
   "source": [
    "# Align test and set by features\n",
    "target = train['TARGET']\n",
    "train, test = train.align(test, join = 'inner', axis = 1)\n",
    "\n",
    "#Add the target back in\n",
    "train['TARGET'] = target"
   ]
  },
  {
   "cell_type": "code",
   "execution_count": 21,
   "metadata": {},
   "outputs": [
    {
     "data": {
      "text/plain": "(48744, 571)"
     },
     "execution_count": 21,
     "metadata": {},
     "output_type": "execute_result"
    }
   ],
   "source": [
    "test.shape"
   ]
  },
  {
   "cell_type": "code",
   "execution_count": 22,
   "metadata": {},
   "outputs": [
    {
     "name": "stdout",
     "output_type": "stream",
     "text": "Original Memory Usage: 1.41 gb.\nNew Memory Usage: 0.7 gb.\nOriginal Memory Usage: 0.11 gb.\nNew Memory Usage: 0.11 gb.\n"
    }
   ],
   "source": [
    "# For some reason, after the alignment we need to convert to the right types again\n",
    "train = utilities.convert_types(train, True)\n",
    "test = utilities.convert_types(test, True)"
   ]
  },
  {
   "cell_type": "code",
   "execution_count": 23,
   "metadata": {},
   "outputs": [],
   "source": [
    "# Store collinear-free test and train\n",
    "utilities.to_csv(train, '../../datatmp/data/trainjoincoll.csv')\n",
    "utilities.to_csv(test, '../../datatmp/data/testjoincoll.csv')"
   ]
  },
  {
   "cell_type": "code",
   "execution_count": null,
   "metadata": {},
   "outputs": [],
   "source": [
    "#train = utilities.read_csv('../../data/trainjoincoll.csv')\n",
    "#test = utilities.read_csv('../../data/testjoincoll.csv')"
   ]
  },
  {
   "cell_type": "code",
   "execution_count": 24,
   "metadata": {},
   "outputs": [
    {
     "name": "stdout",
     "output_type": "stream",
     "text": "Only one bin created for prev_NFLAG_LAST_APPL_IN_DAY_mean. Correlation can't be calculated\nOnly one bin created for prev_NFLAG_LAST_APPL_IN_DAY_max. Correlation can't be calculated\nOnly one bin created for prev_NFLAG_LAST_APPL_IN_DAY_min. Correlation can't be calculated\nOnly one bin created for prev_DAYS_FIRST_DRAWING_ANOM_max. Correlation can't be calculated\nOnly one bin created for prev_installments_NUM_INSTALMENT_NUMBER_min_min. Correlation can't be calculated\nOnly one bin created for prev_cash_SK_DPD_min_min. Correlation can't be calculated\nOnly one bin created for prev_cash_SK_DPD_min_sum. Correlation can't be calculated\nOnly one bin created for prev_cash_SK_DPD_DEF_min_min. Correlation can't be calculated\nOnly one bin created for prev_cash_SK_DPD_DEF_min_sum. Correlation can't be calculated\nOnly one bin created for prev_cash_NAME_CONTRACT_STATUS_Amortized debt_mean_min. Correlation can't be calculated\nOnly one bin created for prev_cash_NAME_CONTRACT_STATUS_Amortized debt_mean_sum. Correlation can't be calculated\nOnly one bin created for prev_cash_NAME_CONTRACT_STATUS_Canceled_mean_min. Correlation can't be calculated\nOnly one bin created for prev_cash_NAME_CONTRACT_STATUS_XNA_mean_min. Correlation can't be calculated\nOnly one bin created for prev_cash_NAME_CONTRACT_STATUS_XNA_mean_sum. Correlation can't be calculated\nOnly one bin created for prev_creditcard_AMT_DRAWINGS_OTHER_CURRENT_min_sum. Correlation can't be calculated\nOnly one bin created for prev_creditcard_SK_DPD_min_sum. Correlation can't be calculated\nOnly one bin created for prev_creditcard_SK_DPD_DEF_min_sum. Correlation can't be calculated\nOnly one bin created for prev_creditcard_NAME_CONTRACT_STATUS_Approved_mean_sum. Correlation can't be calculated\nOnly one bin created for prev_FLAG_LAST_APPL_PER_CONTRACT_mean. Correlation can't be calculated\nOnly one bin created for prev_NAME_GOODS_CATEGORY_Animals_mean. Correlation can't be calculated\nOnly one bin created for prev_NAME_GOODS_CATEGORY_House Construction_mean. Correlation can't be calculated\nOnly one bin created for bureau_CREDIT_TYPE_Interbank credit_mean. Correlation can't be calculated\nOnly one bin created for bureau_CREDIT_TYPE_Mobile operator loan_mean. Correlation can't be calculated\nReturning stats for all numeric features\n"
    }
   ],
   "source": [
    "# As with _traintest, noisy features test. For efficiency handle only on new features (the original already done in _traintest)\n",
    "from featexp import get_trend_stats\n",
    "\n",
    "# select the joined new features\n",
    "newFeatsTrain = train.loc[:,'DAYS_EMPLOYED_ANOM':] \n",
    "\n",
    "# Build a validation set\n",
    "msk = np.random.rand(len(newFeatsTrain)) < 0.75\n",
    "trainset = newFeatsTrain[msk].astype(np.float32)\n",
    "validationset = newFeatsTrain[~msk].astype(np.float32)\n",
    "\n",
    "# Compute noisy's statistics for each feature wrt the target\n",
    "stats = get_trend_stats(data=trainset, target_col='TARGET', data_test=validationset)"
   ]
  },
  {
   "cell_type": "code",
   "execution_count": 25,
   "metadata": {},
   "outputs": [
    {
     "name": "stdout",
     "output_type": "stream",
     "text": "Only one bin created for prev_NFLAG_LAST_APPL_IN_DAY_mean. Correlation can't be calculated\nOnly one bin created for prev_NFLAG_LAST_APPL_IN_DAY_max. Correlation can't be calculated\nOnly one bin created for prev_NFLAG_LAST_APPL_IN_DAY_min. Correlation can't be calculated\nOnly one bin created for prev_DAYS_FIRST_DRAWING_ANOM_max. Correlation can't be calculated\nOnly one bin created for prev_installments_NUM_INSTALMENT_NUMBER_min_min. Correlation can't be calculated\nOnly one bin created for prev_cash_SK_DPD_min_min. Correlation can't be calculated\nOnly one bin created for prev_cash_SK_DPD_min_sum. Correlation can't be calculated\nOnly one bin created for prev_cash_SK_DPD_DEF_min_min. Correlation can't be calculated\nOnly one bin created for prev_cash_SK_DPD_DEF_min_sum. Correlation can't be calculated\nOnly one bin created for prev_cash_NAME_CONTRACT_STATUS_Amortized debt_mean_min. Correlation can't be calculated\nOnly one bin created for prev_cash_NAME_CONTRACT_STATUS_Amortized debt_mean_sum. Correlation can't be calculated\nOnly one bin created for prev_cash_NAME_CONTRACT_STATUS_XNA_mean_min. Correlation can't be calculated\nOnly one bin created for prev_cash_NAME_CONTRACT_STATUS_XNA_mean_sum. Correlation can't be calculated\nOnly one bin created for prev_creditcard_AMT_DRAWINGS_OTHER_CURRENT_min_sum. Correlation can't be calculated\nOnly one bin created for prev_creditcard_CNT_DRAWINGS_OTHER_CURRENT_min_sum. Correlation can't be calculated\nOnly one bin created for prev_creditcard_SK_DPD_min_sum. Correlation can't be calculated\nOnly one bin created for prev_creditcard_SK_DPD_DEF_min_sum. Correlation can't be calculated\nOnly one bin created for prev_creditcard_NAME_CONTRACT_STATUS_Demand_mean_sum. Correlation can't be calculated\nOnly one bin created for prev_FLAG_LAST_APPL_PER_CONTRACT_mean. Correlation can't be calculated\nOnly one bin created for prev_NAME_GOODS_CATEGORY_Animals_mean. Correlation can't be calculated\nOnly one bin created for prev_NAME_GOODS_CATEGORY_House Construction_mean. Correlation can't be calculated\nOnly one bin created for bureau_CREDIT_TYPE_Interbank credit_mean. Correlation can't be calculated\nOnly one bin created for bureau_CREDIT_TYPE_Mobile operator loan_mean. Correlation can't be calculated\nReturning stats for all numeric features\nOnly one bin created for prev_NFLAG_LAST_APPL_IN_DAY_mean. Correlation can't be calculated\nOnly one bin created for prev_NFLAG_LAST_APPL_IN_DAY_max. Correlation can't be calculated\nOnly one bin created for prev_NFLAG_LAST_APPL_IN_DAY_min. Correlation can't be calculated\nOnly one bin created for prev_DAYS_FIRST_DRAWING_ANOM_max. Correlation can't be calculated\nOnly one bin created for prev_installments_NUM_INSTALMENT_NUMBER_min_min. Correlation can't be calculated\nOnly one bin created for prev_cash_SK_DPD_min_min. Correlation can't be calculated\nOnly one bin created for prev_cash_SK_DPD_min_sum. Correlation can't be calculated\nOnly one bin created for prev_cash_SK_DPD_DEF_min_min. Correlation can't be calculated\nOnly one bin created for prev_cash_SK_DPD_DEF_min_sum. Correlation can't be calculated\nOnly one bin created for prev_cash_NAME_CONTRACT_STATUS_Amortized debt_mean_min. Correlation can't be calculated\nOnly one bin created for prev_cash_NAME_CONTRACT_STATUS_Amortized debt_mean_sum. Correlation can't be calculated\nOnly one bin created for prev_cash_NAME_CONTRACT_STATUS_Canceled_mean_min. Correlation can't be calculated\nOnly one bin created for prev_cash_NAME_CONTRACT_STATUS_XNA_mean_min. Correlation can't be calculated\nOnly one bin created for prev_cash_NAME_CONTRACT_STATUS_XNA_mean_sum. Correlation can't be calculated\nOnly one bin created for prev_creditcard_SK_DPD_min_sum. Correlation can't be calculated\nOnly one bin created for prev_creditcard_SK_DPD_DEF_min_sum. Correlation can't be calculated\nOnly one bin created for prev_FLAG_LAST_APPL_PER_CONTRACT_mean. Correlation can't be calculated\nOnly one bin created for prev_NAME_GOODS_CATEGORY_Animals_mean. Correlation can't be calculated\nOnly one bin created for prev_NAME_GOODS_CATEGORY_House Construction_mean. Correlation can't be calculated\nOnly one bin created for bureau_CREDIT_TYPE_Interbank credit_mean. Correlation can't be calculated\nOnly one bin created for bureau_CREDIT_TYPE_Mobile operator loan_mean. Correlation can't be calculated\nReturning stats for all numeric features\nOnly one bin created for prev_NFLAG_LAST_APPL_IN_DAY_mean. Correlation can't be calculated\nOnly one bin created for prev_NFLAG_LAST_APPL_IN_DAY_max. Correlation can't be calculated\nOnly one bin created for prev_NFLAG_LAST_APPL_IN_DAY_min. Correlation can't be calculated\nOnly one bin created for prev_DAYS_FIRST_DRAWING_ANOM_max. Correlation can't be calculated\nOnly one bin created for prev_installments_NUM_INSTALMENT_NUMBER_min_min. Correlation can't be calculated\nOnly one bin created for prev_cash_SK_DPD_min_min. Correlation can't be calculated\nOnly one bin created for prev_cash_SK_DPD_DEF_min_min. Correlation can't be calculated\nOnly one bin created for prev_cash_SK_DPD_DEF_min_sum. Correlation can't be calculated\nOnly one bin created for prev_cash_NAME_CONTRACT_STATUS_Amortized debt_mean_min. Correlation can't be calculated\nOnly one bin created for prev_cash_NAME_CONTRACT_STATUS_Amortized debt_mean_sum. Correlation can't be calculated\nOnly one bin created for prev_cash_NAME_CONTRACT_STATUS_Canceled_mean_min. Correlation can't be calculated\nOnly one bin created for prev_cash_NAME_CONTRACT_STATUS_XNA_mean_min. Correlation can't be calculated\nOnly one bin created for prev_cash_NAME_CONTRACT_STATUS_XNA_mean_sum. Correlation can't be calculated\nOnly one bin created for prev_creditcard_AMT_DRAWINGS_OTHER_CURRENT_min_sum. Correlation can't be calculated\nOnly one bin created for prev_creditcard_SK_DPD_min_sum. Correlation can't be calculated\nOnly one bin created for prev_creditcard_SK_DPD_DEF_min_sum. Correlation can't be calculated\nOnly one bin created for prev_FLAG_LAST_APPL_PER_CONTRACT_mean. Correlation can't be calculated\nOnly one bin created for prev_NAME_GOODS_CATEGORY_Animals_mean. Correlation can't be calculated\nOnly one bin created for prev_NAME_GOODS_CATEGORY_House Construction_mean. Correlation can't be calculated\nOnly one bin created for bureau_CREDIT_TYPE_Interbank credit_mean. Correlation can't be calculated\nOnly one bin created for bureau_CREDIT_TYPE_Mobile operator loan_mean. Correlation can't be calculated\nReturning stats for all numeric features\nOnly one bin created for prev_NFLAG_LAST_APPL_IN_DAY_mean. Correlation can't be calculated\nOnly one bin created for prev_NFLAG_LAST_APPL_IN_DAY_max. Correlation can't be calculated\nOnly one bin created for prev_NFLAG_LAST_APPL_IN_DAY_min. Correlation can't be calculated\nOnly one bin created for prev_DAYS_FIRST_DRAWING_ANOM_max. Correlation can't be calculated\nOnly one bin created for prev_installments_NUM_INSTALMENT_NUMBER_min_min. Correlation can't be calculated\nOnly one bin created for prev_cash_SK_DPD_min_min. Correlation can't be calculated\nOnly one bin created for prev_cash_SK_DPD_min_sum. Correlation can't be calculated\nOnly one bin created for prev_cash_SK_DPD_DEF_min_min. Correlation can't be calculated\nOnly one bin created for prev_cash_SK_DPD_DEF_min_sum. Correlation can't be calculated\nOnly one bin created for prev_cash_NAME_CONTRACT_STATUS_XNA_mean_min. Correlation can't be calculated\nOnly one bin created for prev_cash_NAME_CONTRACT_STATUS_XNA_mean_sum. Correlation can't be calculated\nOnly one bin created for prev_creditcard_AMT_DRAWINGS_OTHER_CURRENT_min_sum. Correlation can't be calculated\nOnly one bin created for prev_creditcard_CNT_DRAWINGS_OTHER_CURRENT_min_sum. Correlation can't be calculated\nOnly one bin created for prev_creditcard_SK_DPD_min_sum. Correlation can't be calculated\nOnly one bin created for prev_creditcard_SK_DPD_DEF_min_sum. Correlation can't be calculated\nOnly one bin created for prev_FLAG_LAST_APPL_PER_CONTRACT_mean. Correlation can't be calculated\nOnly one bin created for prev_NAME_GOODS_CATEGORY_Animals_mean. Correlation can't be calculated\nOnly one bin created for prev_NAME_GOODS_CATEGORY_House Construction_mean. Correlation can't be calculated\nOnly one bin created for bureau_CREDIT_TYPE_Interbank credit_mean. Correlation can't be calculated\nOnly one bin created for bureau_CREDIT_TYPE_Mobile operator loan_mean. Correlation can't be calculated\nReturning stats for all numeric features\n"
    }
   ],
   "source": [
    "total_trend_correlations=stats['Trend_correlation']\n",
    "for i in range(0,4):\n",
    "    msk = np.random.rand(len(newFeatsTrain)) < 0.75\n",
    "    trainset = newFeatsTrain[msk].astype(np.float32)\n",
    "    validationset = newFeatsTrain[~msk].astype(np.float32)\n",
    "    \n",
    "    ith_stats = get_trend_stats(data=trainset, target_col='TARGET', data_test=validationset)\n",
    "    ith_tc = ith_stats['Trend_correlation']\n",
    "    \n",
    "    total_trend_correlations += ith_tc\n",
    "\n",
    "averaged_trend_correlations = total_trend_correlations / 5"
   ]
  },
  {
   "cell_type": "code",
   "execution_count": 26,
   "metadata": {},
   "outputs": [
    {
     "data": {
      "text/plain": "43"
     },
     "execution_count": 26,
     "metadata": {},
     "output_type": "execute_result"
    }
   ],
   "source": [
    "del newFeatsTrain\n",
    "gc.collect()"
   ]
  },
  {
   "cell_type": "code",
   "execution_count": 27,
   "metadata": {},
   "outputs": [],
   "source": [
    "stats['Trend_correlation'] = averaged_trend_correlations\n",
    "# Select returned noisy feats. N: If trend_correlation == 0 then correlation couldnt be calculated. Lazy approach: save the feature.\n",
    "noisyFeats = list(stats.loc[ stats['Trend_correlation'] < 0.75]['Feature']) # Treshold 0.8, tunable\n",
    "\n",
    "# Drop noisy features\n",
    "train.drop(noisyFeats, axis=1, inplace=True)"
   ]
  },
  {
   "cell_type": "code",
   "execution_count": 28,
   "metadata": {},
   "outputs": [
    {
     "data": {
      "text/plain": "93"
     },
     "execution_count": 28,
     "metadata": {},
     "output_type": "execute_result"
    }
   ],
   "source": [
    "len(noisyFeats)"
   ]
  },
  {
   "cell_type": "code",
   "execution_count": 29,
   "metadata": {},
   "outputs": [
    {
     "data": {
      "text/plain": "(307511, 479)"
     },
     "execution_count": 29,
     "metadata": {},
     "output_type": "execute_result"
    }
   ],
   "source": [
    "# How many features are left? \n",
    "train.shape"
   ]
  },
  {
   "cell_type": "code",
   "execution_count": 30,
   "metadata": {},
   "outputs": [
    {
     "data": {
      "text/plain": "(48744, 571)"
     },
     "execution_count": 30,
     "metadata": {},
     "output_type": "execute_result"
    }
   ],
   "source": [
    "test.shape"
   ]
  },
  {
   "cell_type": "code",
   "execution_count": 31,
   "metadata": {},
   "outputs": [],
   "source": [
    "# Align test and set by features\n",
    "target = train['TARGET']\n",
    "train, test = train.align(test, join = 'inner', axis = 1)\n",
    "\n",
    "#Add the target back in\n",
    "train['TARGET'] = target"
   ]
  },
  {
   "cell_type": "code",
   "execution_count": null,
   "metadata": {},
   "outputs": [],
   "source": [
    "test.shape"
   ]
  },
  {
   "cell_type": "code",
   "execution_count": 32,
   "metadata": {},
   "outputs": [],
   "source": [
    "# We forgot to impute missing values for test set, do it now\n",
    "imputer = SimpleImputer(missing_values=np.nan, strategy='median')\n",
    "imputer.fit(test)\n",
    "test.loc[:] = imputer.transform(test)"
   ]
  },
  {
   "cell_type": "code",
   "execution_count": 34,
   "metadata": {},
   "outputs": [],
   "source": [
    "# Store test train without noisy features\n",
    "utilities.to_csv(train, '../../datatmp/data/trainjoincollnoisy.csv')\n",
    "utilities.to_csv(test, '../../datatmp/data/testjoincollnoisy.csv')"
   ]
  },
  {
   "cell_type": "code",
   "execution_count": null,
   "metadata": {},
   "outputs": [],
   "source": [
    "# Continue to the models"
   ]
  }
 ],
 "metadata": {
  "file_extension": ".py",
  "kernelspec": {
   "display_name": "Python 3.7.6 64-bit ('homedefaul': conda)",
   "language": "python",
   "name": "python37664bithomedefaulcondac3ef0b2983f64cfd8cf91c045a31b21e"
  },
  "language_info": {
   "codemirror_mode": {
    "name": "ipython",
    "version": 3
   },
   "file_extension": ".py",
   "mimetype": "text/x-python",
   "name": "python",
   "nbconvert_exporter": "python",
   "pygments_lexer": "ipython3",
   "version": "3.7.6-final"
  },
  "mimetype": "text/x-python",
  "name": "python",
  "npconvert_exporter": "python",
  "pygments_lexer": "ipython3",
  "version": 3
 },
 "nbformat": 4,
 "nbformat_minor": 2
}