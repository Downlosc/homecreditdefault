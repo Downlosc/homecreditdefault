{
 "nbformat": 4,
 "nbformat_minor": 2,
 "metadata": {
  "language_info": {
   "name": "python",
   "codemirror_mode": {
    "name": "ipython",
    "version": 3
   },
   "version": "3.7.3"
  },
  "orig_nbformat": 2,
  "file_extension": ".py",
  "mimetype": "text/x-python",
  "name": "python",
  "npconvert_exporter": "python",
  "pygments_lexer": "ipython3",
  "version": 3
 },
 "cells": [
  {
   "cell_type": "code",
   "execution_count": 1,
   "metadata": {},
   "outputs": [],
   "source": [
    "import pandas as pd \n",
    "import numpy as np\n",
    "import matplotlib.pyplot as plt\n",
    "import seaborn as sns\n",
    "\n",
    "import gc\n",
    "\n",
    "import lightgbm as lgb"
   ]
  },
  {
   "cell_type": "code",
   "execution_count": 2,
   "metadata": {},
   "outputs": [],
   "source": [
    "# pca to reduce feature space? collinearity? correlations? noisy features removal? Tikhonov regularization \n",
    "# train model with boost library"
   ]
  },
  {
   "cell_type": "code",
   "execution_count": 3,
   "metadata": {},
   "outputs": [],
   "source": [
    "### Remove collinear features"
   ]
  },
  {
   "cell_type": "code",
   "execution_count": 4,
   "metadata": {},
   "outputs": [],
   "source": [
    "# Regularization is the process of introducing additional information in order to solve ill-posed problems or prevent overfitting."
   ]
  },
  {
   "cell_type": "code",
   "execution_count": 5,
   "metadata": {},
   "outputs": [],
   "source": [
    "#every time we are saving a csv, dtypes are lost by default. Define the following read and write function to preserve converted types in the first row to avoid another conversion after every loading.\n",
    "\n",
    "import os\n",
    "import json\n",
    "\n",
    "def to_csv(df, path):\n",
    "    \n",
    "    dtypes = df.dtypes.apply(lambda x: x.name).to_dict()\n",
    "    jtypes = json.dumps(dtypes)\n",
    "\n",
    "    fileName = os.path.splitext(path)\n",
    "\n",
    "    # save df as usual along with a json representation of the dictionary\n",
    "    df.to_csv(path, index=False)\n",
    "\n",
    "    f = open(fileName[0]+'Types',\"w\")\n",
    "    f.write(jtypes)\n",
    "    f.close()\n",
    "\n",
    "    # free memory\n",
    "    gc.enable()\n",
    "    del df\n",
    "    gc.collect()\n",
    "\n",
    "def read_csv(path):\n",
    "    \n",
    "    fileName = os.path.splitext(path)\n",
    "    \n",
    "    jtypes = json.load(open(fileName[0]+'Types'))\n",
    "    \n",
    "    return pd.read_csv(path, dtype=jtypes)"
   ]
  },
  {
   "cell_type": "code",
   "execution_count": 6,
   "metadata": {},
   "outputs": [],
   "source": [
    "#load final train\n",
    "train = read_csv('../../data/trainjoined.csv')"
   ]
  },
  {
   "cell_type": "code",
   "execution_count": 7,
   "metadata": {},
   "outputs": [],
   "source": [
    "#compute the upper triangle of the Pearson correlation coefficient matrix. The pearson coefficient is computed between every pair of features\n",
    "corrMatrix = train.drop('TARGET', axis=1).corr().abs()\n",
    "tableCorrelations = corrMatrix.where(np.triu(np.ones(corrMatrix.shape), k=1).astype(np.bool)).stack().reset_index()"
   ]
  },
  {
   "cell_type": "code",
   "execution_count": 8,
   "metadata": {},
   "outputs": [],
   "source": [
    "highCorr = [corr[1:] for corr in tableCorrelations.itertuples() if (corr[3] > 0.90)]"
   ]
  },
  {
   "cell_type": "code",
   "execution_count": 9,
   "metadata": {},
   "outputs": [
    {
     "data": {
      "text/plain": "46"
     },
     "execution_count": 9,
     "metadata": {},
     "output_type": "execute_result"
    }
   ],
   "source": [
    "gc.enable()\n",
    "del tableCorrelations\n",
    "gc.collect()"
   ]
  },
  {
   "cell_type": "code",
   "execution_count": 10,
   "metadata": {},
   "outputs": [],
   "source": [
    "highCollFeat = set([corr[0] for corr in highCorr])"
   ]
  },
  {
   "cell_type": "code",
   "execution_count": 11,
   "metadata": {},
   "outputs": [
    {
     "data": {
      "text/plain": "217"
     },
     "execution_count": 11,
     "metadata": {},
     "output_type": "execute_result"
    }
   ],
   "source": [
    "len(highCollFeat)"
   ]
  },
  {
   "cell_type": "code",
   "execution_count": 12,
   "metadata": {},
   "outputs": [
    {
     "data": {
      "text/plain": "{'AMT_CREDIT',\n 'APARTMENTS_AVG',\n 'APARTMENTS_MODE',\n 'BASEMENTAREA_AVG',\n 'BASEMENTAREA_MODE',\n 'COMMONAREA_AVG',\n 'COMMONAREA_MODE',\n 'ELEVATORS_AVG',\n 'ELEVATORS_MODE',\n 'ENTRANCES_AVG',\n 'ENTRANCES_MODE',\n 'FLAG_EMP_PHONE',\n 'FLOORSMAX_AVG',\n 'FLOORSMAX_MODE',\n 'FLOORSMIN_AVG',\n 'FLOORSMIN_MODE',\n 'HOUSETYPE_MODE_block of flats',\n 'LIVINGAPARTMENTS_AVG',\n 'LIVINGAPARTMENTS_MODE',\n 'LIVINGAREA_AVG',\n 'LIVINGAREA_MEDI',\n 'LIVINGAREA_MODE',\n 'NAME_INCOME_TYPE_Pensioner',\n 'NONLIVINGAPARTMENTS_AVG',\n 'NONLIVINGAPARTMENTS_MODE',\n 'NONLIVINGAREA_AVG',\n 'ORGANIZATION_TYPE_XNA',\n 'REGION_RATING_CLIENT',\n 'YEARS_BEGINEXPLUATATION_AVG',\n 'YEARS_BEGINEXPLUATATION_MODE',\n 'YEARS_BUILD_AVG',\n 'YEARS_BUILD_MODE',\n 'bureau_AMT_CREDIT_MAX_OVERDUE_max',\n 'bureau_AMT_CREDIT_MAX_OVERDUE_mean',\n 'bureau_AMT_CREDIT_SUM_DEBT_max',\n 'bureau_AMT_CREDIT_SUM_LIMIT_max',\n 'bureau_AMT_CREDIT_SUM_OVERDUE_max',\n 'bureau_CNT_CREDIT_PROLONG_max',\n 'bureau_CREDIT_ACTIVE_Active_mean',\n 'bureau_CREDIT_CURRENCY_currency 1_mean',\n 'bureau_CREDIT_DAY_OVERDUE_max',\n 'bureau_DAYS_CREDIT_sum',\n 'bureau_DAYS_ENDDATE_FACT_sum',\n 'bureau_bureauBalance_MONTHS_BALANCE_mean_sum',\n 'bureau_bureauBalance_MONTHS_BALANCE_min_sum',\n 'prev_AMT_ANNUITY_sum',\n 'prev_AMT_APPLICATION_max',\n 'prev_AMT_APPLICATION_mean',\n 'prev_AMT_APPLICATION_min',\n 'prev_AMT_APPLICATION_sum',\n 'prev_AMT_CREDIT_max',\n 'prev_AMT_CREDIT_mean',\n 'prev_AMT_CREDIT_sum',\n 'prev_AMT_DOWN_PAYMENT_max',\n 'prev_DAYS_DECISION_mean',\n 'prev_DAYS_DECISION_min',\n 'prev_DAYS_FIRST_DRAWING_max',\n 'prev_DAYS_FIRST_DRAWING_min',\n 'prev_DAYS_FIRST_DRAWING_sum',\n 'prev_DAYS_FIRST_DUE_max',\n 'prev_DAYS_LAST_DUE_1ST_VERSION_max',\n 'prev_DAYS_LAST_DUE_1ST_VERSION_sum',\n 'prev_DAYS_LAST_DUE_max',\n 'prev_DAYS_LAST_DUE_mean',\n 'prev_DAYS_LAST_DUE_min',\n 'prev_DAYS_LAST_DUE_sum',\n 'prev_NAME_CASH_LOAN_PURPOSE_XAP_mean',\n 'prev_NAME_CONTRACT_STATUS_Refused_mean',\n 'prev_NAME_CONTRACT_STATUS_Unused offer_mean',\n 'prev_NAME_CONTRACT_TYPE_Cash loans_mean',\n 'prev_NAME_CONTRACT_TYPE_Consumer loans_mean',\n 'prev_NAME_CONTRACT_TYPE_Revolving loans_mean',\n 'prev_NAME_GOODS_CATEGORY_Clothing and Accessories_mean',\n 'prev_NAME_GOODS_CATEGORY_XNA_mean',\n 'prev_NAME_PAYMENT_TYPE_Cash through the bank_mean',\n 'prev_NAME_PORTFOLIO_Cars_mean',\n 'prev_SELLERPLACE_AREA_max',\n 'prev_SELLERPLACE_AREA_mean',\n 'prev_cash_CNT_INSTALMENT_FUTURE_mean_max',\n 'prev_cash_CNT_INSTALMENT_FUTURE_mean_mean',\n 'prev_cash_CNT_INSTALMENT_FUTURE_mean_min',\n 'prev_cash_CNT_INSTALMENT_FUTURE_mean_sum',\n 'prev_cash_CNT_INSTALMENT_FUTURE_min_max',\n 'prev_cash_CNT_INSTALMENT_max_max',\n 'prev_cash_CNT_INSTALMENT_max_mean',\n 'prev_cash_CNT_INSTALMENT_max_min',\n 'prev_cash_CNT_INSTALMENT_max_sum',\n 'prev_cash_CNT_INSTALMENT_mean_max',\n 'prev_cash_CNT_INSTALMENT_mean_mean',\n 'prev_cash_CNT_INSTALMENT_mean_min',\n 'prev_cash_CNT_INSTALMENT_mean_sum',\n 'prev_cash_CNT_INSTALMENT_sum_max',\n 'prev_cash_CNT_INSTALMENT_sum_mean',\n 'prev_cash_CNT_INSTALMENT_sum_min',\n 'prev_cash_CNT_INSTALMENT_sum_sum',\n 'prev_cash_MONTHS_BALANCE_max_max',\n 'prev_cash_MONTHS_BALANCE_max_mean',\n 'prev_cash_MONTHS_BALANCE_max_min',\n 'prev_cash_MONTHS_BALANCE_max_sum',\n 'prev_cash_MONTHS_BALANCE_mean_max',\n 'prev_cash_MONTHS_BALANCE_mean_mean',\n 'prev_cash_MONTHS_BALANCE_mean_min',\n 'prev_cash_MONTHS_BALANCE_mean_sum',\n 'prev_cash_MONTHS_BALANCE_min_sum',\n 'prev_cash_NAME_CONTRACT_STATUS_Amortized debt_mean_max',\n 'prev_cash_NAME_CONTRACT_STATUS_Amortized debt_mean_mean',\n 'prev_cash_NAME_CONTRACT_STATUS_Approved_mean_max',\n 'prev_cash_NAME_CONTRACT_STATUS_Canceled_mean_max',\n 'prev_cash_NAME_CONTRACT_STATUS_Demand_mean_max',\n 'prev_cash_NAME_CONTRACT_STATUS_Returned to the store_mean_max',\n 'prev_cash_NAME_CONTRACT_STATUS_Signed_mean_max',\n 'prev_cash_NAME_CONTRACT_STATUS_XNA_mean_max',\n 'prev_cash_NAME_CONTRACT_STATUS_XNA_mean_mean',\n 'prev_cash_SK_DPD_DEF_max_max',\n 'prev_cash_SK_DPD_DEF_mean_max',\n 'prev_cash_SK_DPD_DEF_mean_mean',\n 'prev_cash_SK_DPD_DEF_mean_min',\n 'prev_cash_SK_DPD_DEF_min_max',\n 'prev_cash_SK_DPD_DEF_min_mean',\n 'prev_cash_SK_DPD_DEF_sum_max',\n 'prev_cash_SK_DPD_DEF_sum_mean',\n 'prev_cash_SK_DPD_max_max',\n 'prev_cash_SK_DPD_max_mean',\n 'prev_cash_SK_DPD_mean_max',\n 'prev_cash_SK_DPD_mean_mean',\n 'prev_cash_SK_DPD_mean_min',\n 'prev_cash_SK_DPD_mean_sum',\n 'prev_cash_SK_DPD_min_max',\n 'prev_cash_SK_DPD_min_mean',\n 'prev_cash_SK_DPD_sum_max',\n 'prev_cash_SK_DPD_sum_mean',\n 'prev_creditcard_AMT_BALANCE_max_sum',\n 'prev_creditcard_AMT_BALANCE_mean_sum',\n 'prev_creditcard_AMT_BALANCE_min_sum',\n 'prev_creditcard_AMT_BALANCE_sum_sum',\n 'prev_creditcard_AMT_CREDIT_LIMIT_ACTUAL_mean_sum',\n 'prev_creditcard_AMT_DRAWINGS_CURRENT_sum_sum',\n 'prev_creditcard_AMT_DRAWINGS_OTHER_CURRENT_max_sum',\n 'prev_creditcard_AMT_INST_MIN_REGULARITY_max_sum',\n 'prev_creditcard_AMT_INST_MIN_REGULARITY_mean_sum',\n 'prev_creditcard_AMT_INST_MIN_REGULARITY_sum_sum',\n 'prev_creditcard_AMT_PAYMENT_CURRENT_max_sum',\n 'prev_creditcard_AMT_PAYMENT_CURRENT_mean_sum',\n 'prev_creditcard_AMT_PAYMENT_CURRENT_sum_sum',\n 'prev_creditcard_AMT_RECEIVABLE_PRINCIPAL_max_sum',\n 'prev_creditcard_AMT_RECEIVABLE_PRINCIPAL_mean_sum',\n 'prev_creditcard_AMT_RECEIVABLE_PRINCIPAL_min_sum',\n 'prev_creditcard_AMT_RECEIVABLE_PRINCIPAL_sum_sum',\n 'prev_creditcard_AMT_RECIVABLE_max_sum',\n 'prev_creditcard_AMT_RECIVABLE_mean_sum',\n 'prev_creditcard_AMT_RECIVABLE_min_sum',\n 'prev_creditcard_AMT_RECIVABLE_sum_sum',\n 'prev_creditcard_AMT_TOTAL_RECEIVABLE_mean_sum',\n 'prev_creditcard_CNT_DRAWINGS_CURRENT_max_sum',\n 'prev_creditcard_CNT_DRAWINGS_CURRENT_mean_sum',\n 'prev_creditcard_CNT_DRAWINGS_CURRENT_sum_sum',\n 'prev_creditcard_CNT_INSTALMENT_MATURE_CUM_max_sum',\n 'prev_creditcard_CNT_INSTALMENT_MATURE_CUM_mean_sum',\n 'prev_creditcard_MONTHS_BALANCE_mean_sum',\n 'prev_creditcard_MONTHS_BALANCE_min_sum',\n 'prev_creditcard_SK_DPD_max_sum',\n 'prev_creditcard_SK_DPD_mean_sum',\n 'prev_installments_AMT_INSTALMENT_max_max',\n 'prev_installments_AMT_INSTALMENT_max_mean',\n 'prev_installments_AMT_INSTALMENT_max_min',\n 'prev_installments_AMT_INSTALMENT_max_sum',\n 'prev_installments_AMT_INSTALMENT_mean_max',\n 'prev_installments_AMT_INSTALMENT_mean_mean',\n 'prev_installments_AMT_INSTALMENT_mean_min',\n 'prev_installments_AMT_INSTALMENT_mean_sum',\n 'prev_installments_AMT_INSTALMENT_min_max',\n 'prev_installments_AMT_INSTALMENT_min_mean',\n 'prev_installments_AMT_INSTALMENT_min_min',\n 'prev_installments_AMT_INSTALMENT_min_sum',\n 'prev_installments_AMT_INSTALMENT_sum_max',\n 'prev_installments_AMT_INSTALMENT_sum_mean',\n 'prev_installments_AMT_INSTALMENT_sum_min',\n 'prev_installments_AMT_INSTALMENT_sum_sum',\n 'prev_installments_AMT_PAYMENT_max_max',\n 'prev_installments_AMT_PAYMENT_mean_max',\n 'prev_installments_AMT_PAYMENT_min_max',\n 'prev_installments_DAYS_ENTRY_PAYMENT_max_mean',\n 'prev_installments_DAYS_ENTRY_PAYMENT_max_min',\n 'prev_installments_DAYS_ENTRY_PAYMENT_max_sum',\n 'prev_installments_DAYS_ENTRY_PAYMENT_mean_max',\n 'prev_installments_DAYS_ENTRY_PAYMENT_mean_mean',\n 'prev_installments_DAYS_ENTRY_PAYMENT_mean_min',\n 'prev_installments_DAYS_ENTRY_PAYMENT_mean_sum',\n 'prev_installments_DAYS_ENTRY_PAYMENT_min_max',\n 'prev_installments_DAYS_ENTRY_PAYMENT_min_mean',\n 'prev_installments_DAYS_ENTRY_PAYMENT_min_min',\n 'prev_installments_DAYS_ENTRY_PAYMENT_min_sum',\n 'prev_installments_DAYS_INSTALMENT_max_max',\n 'prev_installments_DAYS_INSTALMENT_max_mean',\n 'prev_installments_DAYS_INSTALMENT_max_min',\n 'prev_installments_DAYS_INSTALMENT_max_sum',\n 'prev_installments_DAYS_INSTALMENT_mean_max',\n 'prev_installments_DAYS_INSTALMENT_mean_mean',\n 'prev_installments_DAYS_INSTALMENT_mean_min',\n 'prev_installments_DAYS_INSTALMENT_mean_sum',\n 'prev_installments_DAYS_INSTALMENT_min_max',\n 'prev_installments_DAYS_INSTALMENT_min_mean',\n 'prev_installments_DAYS_INSTALMENT_min_min',\n 'prev_installments_DAYS_INSTALMENT_min_sum',\n 'prev_installments_DAYS_INSTALMENT_sum_max',\n 'prev_installments_DAYS_INSTALMENT_sum_mean',\n 'prev_installments_DAYS_INSTALMENT_sum_min',\n 'prev_installments_DAYS_INSTALMENT_sum_sum',\n 'prev_installments_NUM_INSTALMENT_NUMBER_mean_max',\n 'prev_installments_NUM_INSTALMENT_NUMBER_mean_sum',\n 'prev_installments_NUM_INSTALMENT_NUMBER_min_mean',\n 'prev_installments_NUM_INSTALMENT_NUMBER_min_sum',\n 'prev_installments_NUM_INSTALMENT_NUMBER_sum_max',\n 'prev_installments_NUM_INSTALMENT_VERSION_mean_max',\n 'prev_installments_NUM_INSTALMENT_VERSION_mean_mean',\n 'prev_installments_NUM_INSTALMENT_VERSION_mean_sum',\n 'prev_installments_NUM_INSTALMENT_VERSION_min_sum'}"
     },
     "execution_count": 12,
     "metadata": {},
     "output_type": "execute_result"
    }
   ],
   "source": [
    "highCollFeat"
   ]
  },
  {
   "cell_type": "code",
   "execution_count": 13,
   "metadata": {},
   "outputs": [],
   "source": [
    "train.drop(highCollFeat, axis=1, inplace=True)"
   ]
  },
  {
   "cell_type": "code",
   "execution_count": 14,
   "metadata": {},
   "outputs": [
    {
     "data": {
      "text/plain": "557"
     },
     "execution_count": 14,
     "metadata": {},
     "output_type": "execute_result"
    }
   ],
   "source": [
    "len(train.columns)"
   ]
  },
  {
   "cell_type": "code",
   "execution_count": 15,
   "metadata": {},
   "outputs": [],
   "source": [
    "test = read_csv('../../data/testjoined.csv')"
   ]
  },
  {
   "cell_type": "code",
   "execution_count": 16,
   "metadata": {},
   "outputs": [],
   "source": [
    "# align test and set by features as always\n",
    "\n",
    "target = train['TARGET']\n",
    "\n",
    "#Align the training and testing data, keep only columns present in both dataframes\n",
    "train, test = train.align(test, join = 'inner', axis = 1)\n",
    "\n",
    "#Add the target back in\n",
    "train['TARGET'] = target"
   ]
  },
  {
   "cell_type": "code",
   "execution_count": 17,
   "metadata": {},
   "outputs": [
    {
     "data": {
      "text/plain": "(48744, 556)"
     },
     "execution_count": 17,
     "metadata": {},
     "output_type": "execute_result"
    }
   ],
   "source": [
    "test.shape"
   ]
  },
  {
   "cell_type": "code",
   "execution_count": 18,
   "metadata": {},
   "outputs": [
    {
     "data": {
      "text/plain": "(307511, 557)"
     },
     "execution_count": 18,
     "metadata": {},
     "output_type": "execute_result"
    }
   ],
   "source": [
    "train.shape"
   ]
  },
  {
   "cell_type": "code",
   "execution_count": 19,
   "metadata": {},
   "outputs": [],
   "source": [
    "to_csv(train, '../../data/trainjoincoll.csv')"
   ]
  },
  {
   "cell_type": "code",
   "execution_count": 20,
   "metadata": {},
   "outputs": [],
   "source": [
    "# store collinear-free features test\n",
    "to_csv(test, '../../data/testjoincoll.csv')"
   ]
  },
  {
   "cell_type": "code",
   "execution_count": 21,
   "metadata": {},
   "outputs": [],
   "source": [
    "#read final test and train set. Remember that this dataframes are the result of mergind the whole data and removing collinear features\n",
    "train = read_csv('../../data/trainjoincoll.csv')\n",
    "test = read_csv('../../data/testjoincoll.csv')"
   ]
  },
  {
   "cell_type": "code",
   "execution_count": null,
   "metadata": {},
   "outputs": [],
   "source": [
    "#In this notebook we employed a number of feature selection methods. These methods are necessary to reduce the number of features to increase model interpretability, decrease model runtime, and increase generalization performance on the test set"
   ]
  },
  {
   "cell_type": "code",
   "execution_count": 85,
   "metadata": {},
   "outputs": [],
   "source": [
    "#Compute Pearson correlation coefficients: https://en.wikipedia.org/wiki/Pearson_correlation_coefficient. between every variable and the target\n",
    "\n",
    "def computePearson(feature):\n",
    "    corr = np.absolute(np.corrcoef(train[feature], train['TARGET'])[0,1])\n",
    "    if np.isnan(corr):\n",
    "        corr = 0\n",
    "    return (feature, corr)\n",
    "\n",
    "corrTargetList = [ computePearson(feat) for feat in train if (feat != 'TARGET') and (feat != 'SK_ID_CURR') ]\n",
    "\n",
    "corrSupport = [True if corrTargetList[i][1] != 0 else False for i in range(0, len(corrTargetList)-1)]\n",
    "#correlations = train.corr()['TARGET'].sort_values()\n",
    "#\n",
    "#print('Most Positive Correlations:\\n', correlations.tail(10))\n",
    "#print('Most Negative Correlations:', correlations.head(10))\n",
    "\n",
    "#Explanation: since the DAYS_BIRTH feature increases negatively, and the correlation is positive, it means that as the client gets older he will be less likely to default. Moreover, among the top ones we have features as EXT_SOURCE_1/3, EDUCATION TYPE .. . However, none of the features seem to be strongly correlated w/ the target w/ respect to Evans (1996) general interpretatoins (http://www.statstutor.ac.uk/resources/uploaded/pearsons.pdf). Indeed having an abs value Pearson coefficient between .00-.19 is considered as \"very week\" correlation."
   ]
  },
  {
   "cell_type": "code",
   "execution_count": 86,
   "metadata": {},
   "outputs": [
    {
     "data": {
      "text/plain": "[True,\n True,\n True,\n True,\n True,\n True,\n True,\n True,\n True,\n True,\n True,\n True,\n True,\n True,\n True,\n True,\n True,\n True,\n True,\n True,\n True,\n True,\n True,\n True,\n True,\n True,\n True,\n True,\n True,\n True,\n True,\n True,\n True,\n True,\n True,\n True,\n True,\n True,\n True,\n True,\n True,\n True,\n True,\n True,\n True,\n True,\n True,\n True,\n True,\n True,\n True,\n True,\n True,\n True,\n True,\n True,\n True,\n True,\n True,\n True,\n True,\n True,\n True,\n True,\n True,\n True,\n True,\n True,\n True,\n True,\n True,\n True,\n True,\n True,\n True,\n True,\n True,\n True,\n True,\n True,\n True,\n True,\n True,\n True,\n True,\n True,\n True,\n True,\n True,\n True,\n True,\n True,\n True,\n True,\n True,\n True,\n True,\n True,\n True,\n True,\n True,\n True,\n True,\n True,\n True,\n True,\n True,\n True,\n True,\n True,\n True,\n True,\n True,\n True,\n True,\n True,\n True,\n True,\n True,\n True,\n True,\n True,\n True,\n True,\n True,\n True,\n True,\n True,\n True,\n True,\n True,\n True,\n True,\n True,\n True,\n True,\n True,\n True,\n True,\n True,\n True,\n True,\n True,\n True,\n True,\n True,\n True,\n True,\n True,\n True,\n True,\n True,\n True,\n False,\n False,\n False,\n False,\n False,\n False,\n False,\n False,\n False,\n False,\n False,\n False,\n False,\n False,\n False,\n False,\n False,\n False,\n False,\n False,\n False,\n False,\n False,\n False,\n False,\n False,\n False,\n False,\n False,\n False,\n False,\n False,\n False,\n False,\n False,\n False,\n False,\n False,\n False,\n False,\n False,\n False,\n False,\n False,\n False,\n False,\n False,\n False,\n False,\n False,\n False,\n False,\n False,\n False,\n False,\n False,\n False,\n False,\n False,\n False,\n False,\n False,\n False,\n False,\n False,\n False,\n False,\n False,\n False,\n False,\n False,\n False,\n False,\n False,\n False,\n False,\n False,\n False,\n False,\n False,\n False,\n False,\n False,\n False,\n False,\n False,\n False,\n False,\n False,\n False,\n False,\n False,\n False,\n False,\n False,\n False,\n False,\n False,\n False,\n False,\n False,\n False,\n False,\n False,\n False,\n False,\n False,\n False,\n False,\n False,\n False,\n False,\n False,\n False,\n False,\n False,\n False,\n False,\n False,\n False,\n False,\n False,\n False,\n False,\n False,\n False,\n False,\n False,\n False,\n False,\n False,\n False,\n False,\n False,\n False,\n False,\n False,\n False,\n False,\n False,\n False,\n False,\n False,\n False,\n False,\n False,\n False,\n False,\n False,\n False,\n False,\n False,\n False,\n False,\n False,\n False,\n False,\n False,\n False,\n False,\n False,\n False,\n False,\n False,\n False,\n False,\n False,\n False,\n False,\n False,\n False,\n False,\n False,\n False,\n False,\n False,\n False,\n False,\n False,\n False,\n False,\n False,\n False,\n False,\n False,\n False,\n False,\n False,\n False,\n False,\n False,\n False,\n False,\n False,\n False,\n False,\n False,\n False,\n False,\n False,\n False,\n False,\n False,\n False,\n False,\n False,\n False,\n False,\n False,\n False,\n False,\n False,\n False,\n False,\n False,\n False,\n False,\n False,\n False,\n False,\n False,\n False,\n False,\n False,\n False,\n False,\n False,\n False,\n False,\n False,\n False,\n False,\n False,\n False,\n False,\n False,\n False,\n False,\n False,\n False,\n False,\n False,\n False,\n False,\n False,\n False,\n False,\n False,\n False,\n False,\n False,\n False,\n False,\n False,\n False,\n False,\n False,\n False,\n False,\n False,\n False,\n False,\n False,\n False,\n False,\n False,\n False,\n False,\n False,\n False,\n False,\n False,\n False,\n False,\n False,\n False,\n False,\n False,\n False,\n False,\n False,\n False,\n False,\n False,\n False,\n False,\n False,\n False,\n False,\n False,\n False,\n False,\n False,\n False,\n False,\n False,\n False,\n False,\n False,\n False,\n False,\n False,\n False,\n False,\n False,\n False,\n False,\n False,\n False,\n False,\n False,\n False,\n False,\n False,\n False,\n False,\n False,\n False,\n False,\n False,\n False,\n False,\n False,\n False,\n False,\n False,\n False,\n False,\n False,\n False,\n False,\n False,\n False,\n False,\n False,\n False,\n False,\n False,\n False,\n False,\n False,\n False,\n False,\n False,\n False,\n False,\n False,\n False,\n False,\n False,\n False,\n False,\n False,\n False,\n False,\n False,\n False,\n False,\n False,\n False,\n False,\n False,\n False,\n False,\n False,\n False,\n False,\n False,\n False,\n False,\n False,\n False,\n False,\n False,\n False,\n False,\n False,\n False,\n False,\n False,\n False,\n False,\n False,\n False,\n False,\n False,\n False,\n False,\n False,\n False,\n False,\n False,\n False,\n False,\n False,\n False,\n False,\n False,\n False,\n False,\n False]"
     },
     "execution_count": 86,
     "metadata": {},
     "output_type": "execute_result"
    }
   ],
   "source": [
    "corrSupport"
   ]
  },
  {
   "cell_type": "code",
   "execution_count": 81,
   "metadata": {},
   "outputs": [
    {
     "data": {
      "text/plain": "('prev_creditcard_MONTHS_BALANCE_max_sum', 0)"
     },
     "execution_count": 81,
     "metadata": {},
     "output_type": "execute_result"
    }
   ],
   "source": [
    "corrTargetList[300]"
   ]
  },
  {
   "cell_type": "code",
   "execution_count": 37,
   "metadata": {},
   "outputs": [
    {
     "data": {
      "text/plain": "555"
     },
     "execution_count": 37,
     "metadata": {},
     "output_type": "execute_result"
    }
   ],
   "source": [
    "len(corrTargetList)"
   ]
  },
  {
   "cell_type": "code",
   "execution_count": 26,
   "metadata": {},
   "outputs": [],
   "source": [
    "#Visualize w/ a density plot how the younger clients tend to default more likely\n",
    "#plt.figure(figsize = (10, 8))\n",
    "#\n",
    "## KDE plot of loans that were repaid on time\n",
    "#sns.kdeplot(train.loc[train['TARGET'] == 0, 'DAYS_BIRTH'] / -365, label = 'target == 0')\n",
    "#\n",
    "## KDE plot of loans which were not repaid on time\n",
    "#sns.kdeplot(train.loc[train['TARGET'] == 1, 'DAYS_BIRTH'] / -365, label = 'target == 1')\n",
    "## Labeling of plot\n",
    "#plt.xlabel('Age (years)'); plt.ylabel('Density'); plt.title('Distribution of Ages');"
   ]
  },
  {
   "cell_type": "code",
   "execution_count": null,
   "metadata": {},
   "outputs": [],
   "source": [
    "# Create the null importances distributions : these are created fitting the model over several runs on a shuffled version of the target. This shows how the model can make sense of a feature irrespective of the target."
   ]
  },
  {
   "cell_type": "code",
   "execution_count": 30,
   "metadata": {},
   "outputs": [],
   "source": [
    "### NULL IMPORTANCE ###\n",
    "from sklearn.metrics import roc_auc_score\n",
    "from sklearn.model_selection import KFold\n",
    "import time\n",
    "from lightgbm import LGBMClassifier\n",
    "import lightgbm as lgb\n",
    "\n",
    "import matplotlib.pyplot as plt\n",
    "import matplotlib.gridspec as gridspec\n",
    "import seaborn as sns\n",
    "%matplotlib inline"
   ]
  },
  {
   "cell_type": "code",
   "execution_count": null,
   "metadata": {},
   "outputs": [],
   "source": [
    "#We show that this method can be used to correct for the bias of feature importance computed with RF and MI. "
   ]
  },
  {
   "cell_type": "code",
   "execution_count": null,
   "metadata": {},
   "outputs": [],
   "source": [
    "# remove all features w/ 0 overall importance using: Person Coefficient, Chi coefficient, Logistic regression and RF w/ lightGBM.\n"
   ]
  }
 ]
}