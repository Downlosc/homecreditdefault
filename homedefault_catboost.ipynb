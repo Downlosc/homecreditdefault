{
 "nbformat": 4,
 "nbformat_minor": 2,
 "metadata": {
  "language_info": {
   "name": "python",
   "codemirror_mode": {
    "name": "ipython",
    "version": 3
   },
   "version": "3.7.6-final"
  },
  "orig_nbformat": 2,
  "file_extension": ".py",
  "mimetype": "text/x-python",
  "name": "python",
  "npconvert_exporter": "python",
  "pygments_lexer": "ipython3",
  "version": 3,
  "kernelspec": {
   "name": "python37664bithomedefaulcondac3ef0b2983f64cfd8cf91c045a31b21e",
   "display_name": "Python 3.7.6 64-bit ('homedefaul': conda)"
  }
 },
 "cells": [
  {
   "cell_type": "code",
   "execution_count": 1,
   "metadata": {},
   "outputs": [],
   "source": [
    "## CAT Boost ##\n",
    "# Similarly to LGB, CatB is a gradient boost model "
   ]
  },
  {
   "cell_type": "code",
   "execution_count": 2,
   "metadata": {},
   "outputs": [],
   "source": [
    "import pandas as pd \n",
    "import numpy as np\n",
    "import matplotlib.pyplot as plt\n",
    "import sklearn\n",
    "import gc\n",
    "gc.enable()\n",
    "import catboost as ctb\n",
    "import utilities"
   ]
  },
  {
   "cell_type": "code",
   "execution_count": 3,
   "metadata": {},
   "outputs": [],
   "source": [
    "train = utilities.read_csv('../../datatmp/data/trainjoincollnoisy.csv')\n",
    "test = utilities.read_csv('../../datatmp/data/testjoincollnoisy.csv')"
   ]
  },
  {
   "cell_type": "code",
   "execution_count": 4,
   "metadata": {},
   "outputs": [],
   "source": [
    "target = train['TARGET'].astype(int).copy()\n",
    "train.drop('TARGET',axis=1, inplace=True)\n",
    "testIds = test['SK_ID_CURR'].astype(int).copy()\n",
    "train.drop('SK_ID_CURR', axis=1, inplace=True)\n",
    "test.drop('SK_ID_CURR', axis=1, inplace=True)"
   ]
  },
  {
   "cell_type": "code",
   "execution_count": 5,
   "metadata": {},
   "outputs": [],
   "source": [
    "# Due to the last version of lgb, we got an error related to special chars in column names. Replacing the blanks in the following fixed it\n",
    "train.columns = [\"\".join (c if c.isalnum() else \"_\" for c in str(x)) for x in train.columns]\n",
    "test.columns = [\"\".join (c if c.isalnum() else \"_\" for c in str(x)) for x in test.columns]"
   ]
  },
  {
   "cell_type": "code",
   "execution_count": 6,
   "metadata": {},
   "outputs": [],
   "source": [
    "impFeats = []\n",
    "importances = pd.read_csv('../../datatmp/data/importances.csv')\n",
    "\n",
    "for feat in importances:\n",
    "    if importances.loc[0][feat] > 0:\n",
    "        impFeats.append(feat)"
   ]
  },
  {
   "cell_type": "code",
   "execution_count": 7,
   "metadata": {},
   "outputs": [],
   "source": [
    "# Final train test\n",
    "train = train[impFeats]\n",
    "test = test[impFeats]"
   ]
  },
  {
   "cell_type": "code",
   "execution_count": 8,
   "metadata": {},
   "outputs": [],
   "source": [
    "# K-Fold catboost train and predict\n",
    "from sklearn.model_selection import KFold\n",
    "\n",
    "def trainNpredCatb(train, test, y, nFolds):\n",
    "\n",
    "    testPreds = np.zeros(test.shape[0])\n",
    "\n",
    "    # Unbalanced data: use cv\n",
    "    # Set seed to make the experiment reproducible\n",
    "    folds = KFold(n_splits=nFolds, shuffle=True, random_state=42)\n",
    "\n",
    "    for fold, (trainIds, valIds) in enumerate(folds.split(train, y)):\n",
    "\n",
    "        trainX, trainY = train.iloc[trainIds], y.iloc[trainIds]\n",
    "        valX, valY = train.iloc[valIds], y.iloc[valIds]\n",
    "\n",
    "        clf = ctb.CatBoostClassifier(iterations=2000,\n",
    "                                      learning_rate=0.02,\n",
    "                                      depth=6,\n",
    "                                      l2_leaf_reg=40,\n",
    "                                      bootstrap_type='Bernoulli',\n",
    "                                      subsample=0.8715623,\n",
    "                                      scale_pos_weight=5,\n",
    "                                      eval_metric='AUC',\n",
    "                                      metric_period=50,\n",
    "                                      od_type='Iter',\n",
    "                                      od_wait=45,\n",
    "                                      random_seed=42,\n",
    "                                     allow_writing_files=False)\n",
    "\n",
    "        clf.fit(trainX, trainY,\n",
    "                     eval_set=(valX, valY),\n",
    "                     use_best_model=True,\n",
    "                     verbose=True)\n",
    "\n",
    "        # Average best iteration preds for test \n",
    "        testPreds += clf.predict_proba(test)[:, 1] / folds.n_splits \n",
    "\n",
    "        # Free space\n",
    "        del trainX, trainY, valX, valY\n",
    "        gc.collect()\n",
    "\n",
    "    return testPreds"
   ]
  },
  {
   "cell_type": "code",
   "execution_count": 9,
   "metadata": {},
   "outputs": [
    {
     "name": "stderr",
     "output_type": "stream",
     "text": "Warning: Overfitting detector is active, thus evaluation metric is calculated on every iteration. 'metric_period' is ignored for evaluation metric.\n0:\ttest: 0.6912652\tbest: 0.6912652 (0)\ttotal: 252ms\tremaining: 8m 23s\n50:\ttest: 0.7383902\tbest: 0.7383902 (50)\ttotal: 7.51s\tremaining: 4m 46s\n100:\ttest: 0.7513409\tbest: 0.7513409 (100)\ttotal: 14.7s\tremaining: 4m 36s\n150:\ttest: 0.7589573\tbest: 0.7589573 (150)\ttotal: 21.8s\tremaining: 4m 26s\n200:\ttest: 0.7637604\tbest: 0.7637604 (200)\ttotal: 28.8s\tremaining: 4m 17s\n250:\ttest: 0.7672185\tbest: 0.7672185 (250)\ttotal: 35.7s\tremaining: 4m 8s\n300:\ttest: 0.7695085\tbest: 0.7695085 (300)\ttotal: 42.6s\tremaining: 4m\n350:\ttest: 0.7713577\tbest: 0.7713577 (350)\ttotal: 49.2s\tremaining: 3m 51s\n400:\ttest: 0.7729726\tbest: 0.7729726 (400)\ttotal: 55.9s\tremaining: 3m 43s\n450:\ttest: 0.7742172\tbest: 0.7742172 (450)\ttotal: 1m 2s\tremaining: 3m 34s\n500:\ttest: 0.7753980\tbest: 0.7753980 (500)\ttotal: 1m 9s\tremaining: 3m 26s\n550:\ttest: 0.7764615\tbest: 0.7764615 (550)\ttotal: 1m 15s\tremaining: 3m 18s\n600:\ttest: 0.7773527\tbest: 0.7773527 (600)\ttotal: 1m 21s\tremaining: 3m 10s\n650:\ttest: 0.7784053\tbest: 0.7784053 (650)\ttotal: 1m 28s\tremaining: 3m 4s\n700:\ttest: 0.7794222\tbest: 0.7794222 (700)\ttotal: 1m 35s\tremaining: 2m 56s\n750:\ttest: 0.7803357\tbest: 0.7803369 (749)\ttotal: 1m 41s\tremaining: 2m 49s\n800:\ttest: 0.7812532\tbest: 0.7812532 (800)\ttotal: 1m 48s\tremaining: 2m 42s\n850:\ttest: 0.7820693\tbest: 0.7820693 (850)\ttotal: 1m 55s\tremaining: 2m 35s\n900:\ttest: 0.7825348\tbest: 0.7825479 (899)\ttotal: 2m 2s\tremaining: 2m 29s\n950:\ttest: 0.7831128\tbest: 0.7831128 (950)\ttotal: 2m 9s\tremaining: 2m 22s\n1000:\ttest: 0.7835040\tbest: 0.7835040 (1000)\ttotal: 2m 16s\tremaining: 2m 15s\n1050:\ttest: 0.7839659\tbest: 0.7839659 (1050)\ttotal: 2m 23s\tremaining: 2m 9s\n1100:\ttest: 0.7843311\tbest: 0.7843311 (1100)\ttotal: 2m 30s\tremaining: 2m 2s\n1150:\ttest: 0.7847260\tbest: 0.7847260 (1150)\ttotal: 2m 36s\tremaining: 1m 55s\n1200:\ttest: 0.7851746\tbest: 0.7851746 (1200)\ttotal: 2m 43s\tremaining: 1m 48s\n1250:\ttest: 0.7854595\tbest: 0.7854654 (1247)\ttotal: 2m 50s\tremaining: 1m 41s\n1300:\ttest: 0.7856748\tbest: 0.7856764 (1298)\ttotal: 2m 57s\tremaining: 1m 35s\n1350:\ttest: 0.7858830\tbest: 0.7858924 (1348)\ttotal: 3m 3s\tremaining: 1m 28s\n1400:\ttest: 0.7861405\tbest: 0.7861405 (1400)\ttotal: 3m 10s\tremaining: 1m 21s\n1450:\ttest: 0.7863693\tbest: 0.7863693 (1450)\ttotal: 3m 17s\tremaining: 1m 14s\n1500:\ttest: 0.7865736\tbest: 0.7865774 (1499)\ttotal: 3m 23s\tremaining: 1m 7s\n1550:\ttest: 0.7867473\tbest: 0.7867473 (1550)\ttotal: 3m 30s\tremaining: 1m\n1600:\ttest: 0.7869643\tbest: 0.7869685 (1596)\ttotal: 3m 37s\tremaining: 54.1s\n1650:\ttest: 0.7870775\tbest: 0.7870828 (1648)\ttotal: 3m 43s\tremaining: 47.3s\n1700:\ttest: 0.7872189\tbest: 0.7872189 (1700)\ttotal: 3m 50s\tremaining: 40.5s\n1750:\ttest: 0.7873914\tbest: 0.7874024 (1748)\ttotal: 3m 57s\tremaining: 33.8s\n1800:\ttest: 0.7875004\tbest: 0.7875004 (1800)\ttotal: 4m 4s\tremaining: 27s\n1850:\ttest: 0.7876086\tbest: 0.7876289 (1844)\ttotal: 4m 10s\tremaining: 20.2s\n1900:\ttest: 0.7876787\tbest: 0.7876972 (1890)\ttotal: 4m 17s\tremaining: 13.4s\n1950:\ttest: 0.7878435\tbest: 0.7878538 (1947)\ttotal: 4m 24s\tremaining: 6.64s\n1999:\ttest: 0.7878848\tbest: 0.7878848 (1999)\ttotal: 4m 30s\tremaining: 0us\n\nbestTest = 0.7878848214\nbestIteration = 1999\n\nWarning: Overfitting detector is active, thus evaluation metric is calculated on every iteration. 'metric_period' is ignored for evaluation metric.\n0:\ttest: 0.7028642\tbest: 0.7028642 (0)\ttotal: 145ms\tremaining: 4m 49s\n50:\ttest: 0.7413168\tbest: 0.7413168 (50)\ttotal: 7.5s\tremaining: 4m 46s\n100:\ttest: 0.7529706\tbest: 0.7529706 (100)\ttotal: 14.6s\tremaining: 4m 35s\n150:\ttest: 0.7598242\tbest: 0.7598242 (150)\ttotal: 21.7s\tremaining: 4m 25s\n200:\ttest: 0.7646209\tbest: 0.7646209 (200)\ttotal: 28.9s\tremaining: 4m 18s\n250:\ttest: 0.7676796\tbest: 0.7676796 (250)\ttotal: 36s\tremaining: 4m 10s\n300:\ttest: 0.7698888\tbest: 0.7698888 (300)\ttotal: 43s\tremaining: 4m 2s\n350:\ttest: 0.7719455\tbest: 0.7719455 (350)\ttotal: 50.1s\tremaining: 3m 55s\n400:\ttest: 0.7734235\tbest: 0.7734235 (400)\ttotal: 56.9s\tremaining: 3m 46s\n450:\ttest: 0.7747975\tbest: 0.7747975 (450)\ttotal: 1m 3s\tremaining: 3m 38s\n500:\ttest: 0.7758685\tbest: 0.7758685 (500)\ttotal: 1m 10s\tremaining: 3m 30s\n550:\ttest: 0.7768566\tbest: 0.7768568 (549)\ttotal: 1m 17s\tremaining: 3m 23s\n600:\ttest: 0.7778764\tbest: 0.7778764 (600)\ttotal: 1m 24s\tremaining: 3m 15s\n650:\ttest: 0.7787106\tbest: 0.7787106 (650)\ttotal: 1m 30s\tremaining: 3m 8s\n700:\ttest: 0.7797859\tbest: 0.7797859 (700)\ttotal: 1m 37s\tremaining: 3m\n750:\ttest: 0.7809491\tbest: 0.7809491 (750)\ttotal: 1m 44s\tremaining: 2m 54s\n800:\ttest: 0.7820781\tbest: 0.7820781 (800)\ttotal: 1m 51s\tremaining: 2m 47s\n850:\ttest: 0.7828314\tbest: 0.7828314 (850)\ttotal: 1m 58s\tremaining: 2m 40s\n900:\ttest: 0.7835328\tbest: 0.7835328 (900)\ttotal: 2m 5s\tremaining: 2m 32s\n950:\ttest: 0.7841197\tbest: 0.7841209 (949)\ttotal: 2m 11s\tremaining: 2m 25s\n1000:\ttest: 0.7845044\tbest: 0.7845044 (1000)\ttotal: 2m 17s\tremaining: 2m 17s\n1050:\ttest: 0.7849343\tbest: 0.7849343 (1050)\ttotal: 2m 24s\tremaining: 2m 10s\n1100:\ttest: 0.7854077\tbest: 0.7854077 (1100)\ttotal: 2m 30s\tremaining: 2m 3s\n1150:\ttest: 0.7856367\tbest: 0.7856367 (1150)\ttotal: 2m 36s\tremaining: 1m 55s\n1200:\ttest: 0.7858572\tbest: 0.7858572 (1200)\ttotal: 2m 43s\tremaining: 1m 48s\n1250:\ttest: 0.7861425\tbest: 0.7861425 (1250)\ttotal: 2m 49s\tremaining: 1m 41s\n1300:\ttest: 0.7863830\tbest: 0.7863830 (1300)\ttotal: 2m 55s\tremaining: 1m 34s\n1350:\ttest: 0.7866437\tbest: 0.7866437 (1350)\ttotal: 3m 2s\tremaining: 1m 27s\n1400:\ttest: 0.7868686\tbest: 0.7868686 (1400)\ttotal: 3m 8s\tremaining: 1m 20s\n1450:\ttest: 0.7870533\tbest: 0.7870533 (1450)\ttotal: 3m 14s\tremaining: 1m 13s\n1500:\ttest: 0.7872321\tbest: 0.7872321 (1500)\ttotal: 3m 21s\tremaining: 1m 6s\n1550:\ttest: 0.7874165\tbest: 0.7874165 (1550)\ttotal: 3m 27s\tremaining: 1m\n1600:\ttest: 0.7875707\tbest: 0.7875707 (1600)\ttotal: 3m 33s\tremaining: 53.3s\n1650:\ttest: 0.7876944\tbest: 0.7877136 (1644)\ttotal: 3m 40s\tremaining: 46.5s\n1700:\ttest: 0.7877951\tbest: 0.7878029 (1695)\ttotal: 3m 46s\tremaining: 39.8s\n1750:\ttest: 0.7879721\tbest: 0.7879721 (1750)\ttotal: 3m 53s\tremaining: 33.2s\n1800:\ttest: 0.7881765\tbest: 0.7881765 (1800)\ttotal: 3m 59s\tremaining: 26.5s\n1850:\ttest: 0.7882835\tbest: 0.7882909 (1848)\ttotal: 4m 5s\tremaining: 19.8s\n1900:\ttest: 0.7884372\tbest: 0.7884372 (1900)\ttotal: 4m 12s\tremaining: 13.1s\n1950:\ttest: 0.7885330\tbest: 0.7885330 (1950)\ttotal: 4m 18s\tremaining: 6.5s\n1999:\ttest: 0.7886010\tbest: 0.7886010 (1999)\ttotal: 4m 24s\tremaining: 0us\n\nbestTest = 0.7886010421\nbestIteration = 1999\n\nWarning: Overfitting detector is active, thus evaluation metric is calculated on every iteration. 'metric_period' is ignored for evaluation metric.\n0:\ttest: 0.7043587\tbest: 0.7043587 (0)\ttotal: 144ms\tremaining: 4m 47s\n50:\ttest: 0.7403019\tbest: 0.7403019 (50)\ttotal: 7.14s\tremaining: 4m 33s\n100:\ttest: 0.7516832\tbest: 0.7516832 (100)\ttotal: 14.1s\tremaining: 4m 24s\n150:\ttest: 0.7586593\tbest: 0.7586593 (150)\ttotal: 21s\tremaining: 4m 16s\n200:\ttest: 0.7632959\tbest: 0.7632959 (200)\ttotal: 27.9s\tremaining: 4m 9s\n250:\ttest: 0.7661405\tbest: 0.7661405 (250)\ttotal: 34.6s\tremaining: 4m 1s\n300:\ttest: 0.7684069\tbest: 0.7684069 (300)\ttotal: 41.3s\tremaining: 3m 53s\n350:\ttest: 0.7702742\tbest: 0.7702742 (350)\ttotal: 48.1s\tremaining: 3m 46s\n400:\ttest: 0.7717809\tbest: 0.7717809 (400)\ttotal: 54.9s\tremaining: 3m 38s\n450:\ttest: 0.7731056\tbest: 0.7731056 (450)\ttotal: 1m 1s\tremaining: 3m 31s\n500:\ttest: 0.7740486\tbest: 0.7740486 (500)\ttotal: 1m 8s\tremaining: 3m 23s\n550:\ttest: 0.7751947\tbest: 0.7751947 (550)\ttotal: 1m 14s\tremaining: 3m 15s\n600:\ttest: 0.7760438\tbest: 0.7760438 (600)\ttotal: 1m 21s\tremaining: 3m 8s\n650:\ttest: 0.7770671\tbest: 0.7770671 (650)\ttotal: 1m 27s\tremaining: 3m 1s\n700:\ttest: 0.7779949\tbest: 0.7779949 (700)\ttotal: 1m 34s\tremaining: 2m 54s\n750:\ttest: 0.7790726\tbest: 0.7790726 (750)\ttotal: 1m 40s\tremaining: 2m 47s\n800:\ttest: 0.7798987\tbest: 0.7798987 (800)\ttotal: 1m 47s\tremaining: 2m 40s\n850:\ttest: 0.7807152\tbest: 0.7807152 (850)\ttotal: 1m 53s\tremaining: 2m 33s\n900:\ttest: 0.7812919\tbest: 0.7812919 (900)\ttotal: 1m 59s\tremaining: 2m 25s\n950:\ttest: 0.7818718\tbest: 0.7818718 (950)\ttotal: 2m 5s\tremaining: 2m 18s\n1000:\ttest: 0.7823292\tbest: 0.7823292 (1000)\ttotal: 2m 11s\tremaining: 2m 11s\n1050:\ttest: 0.7827549\tbest: 0.7827549 (1050)\ttotal: 2m 17s\tremaining: 2m 4s\n1100:\ttest: 0.7831752\tbest: 0.7831752 (1100)\ttotal: 2m 24s\tremaining: 1m 57s\n1150:\ttest: 0.7835043\tbest: 0.7835043 (1150)\ttotal: 2m 30s\tremaining: 1m 50s\n1200:\ttest: 0.7837473\tbest: 0.7837476 (1198)\ttotal: 2m 36s\tremaining: 1m 43s\n1250:\ttest: 0.7839915\tbest: 0.7839915 (1250)\ttotal: 2m 42s\tremaining: 1m 37s\n1300:\ttest: 0.7843493\tbest: 0.7843507 (1299)\ttotal: 2m 48s\tremaining: 1m 30s\n1350:\ttest: 0.7846058\tbest: 0.7846058 (1350)\ttotal: 2m 54s\tremaining: 1m 23s\n1400:\ttest: 0.7847927\tbest: 0.7847927 (1400)\ttotal: 3m\tremaining: 1m 17s\n1450:\ttest: 0.7849706\tbest: 0.7849706 (1450)\ttotal: 3m 7s\tremaining: 1m 10s\n1500:\ttest: 0.7852112\tbest: 0.7852174 (1499)\ttotal: 3m 13s\tremaining: 1m 4s\n1550:\ttest: 0.7854102\tbest: 0.7854106 (1545)\ttotal: 3m 20s\tremaining: 57.9s\n1600:\ttest: 0.7855786\tbest: 0.7855786 (1600)\ttotal: 3m 26s\tremaining: 51.5s\n1650:\ttest: 0.7858002\tbest: 0.7858002 (1650)\ttotal: 3m 33s\tremaining: 45s\n1700:\ttest: 0.7859196\tbest: 0.7859199 (1698)\ttotal: 3m 39s\tremaining: 38.6s\n1750:\ttest: 0.7861527\tbest: 0.7861527 (1750)\ttotal: 3m 45s\tremaining: 32.1s\n1800:\ttest: 0.7862759\tbest: 0.7862864 (1783)\ttotal: 3m 52s\tremaining: 25.7s\n1850:\ttest: 0.7864179\tbest: 0.7864188 (1846)\ttotal: 3m 58s\tremaining: 19.2s\n1900:\ttest: 0.7865590\tbest: 0.7865590 (1900)\ttotal: 4m 5s\tremaining: 12.8s\n1950:\ttest: 0.7866740\tbest: 0.7866740 (1950)\ttotal: 4m 11s\tremaining: 6.32s\n1999:\ttest: 0.7867406\tbest: 0.7867516 (1995)\ttotal: 4m 18s\tremaining: 0us\n\nbestTest = 0.7867515915\nbestIteration = 1995\n\nShrink model to first 1996 iterations.\nWarning: Overfitting detector is active, thus evaluation metric is calculated on every iteration. 'metric_period' is ignored for evaluation metric.\n0:\ttest: 0.6941405\tbest: 0.6941405 (0)\ttotal: 146ms\tremaining: 4m 51s\n50:\ttest: 0.7368039\tbest: 0.7368039 (50)\ttotal: 7.2s\tremaining: 4m 35s\n100:\ttest: 0.7498966\tbest: 0.7498966 (100)\ttotal: 14.3s\tremaining: 4m 29s\n150:\ttest: 0.7569543\tbest: 0.7569543 (150)\ttotal: 21.3s\tremaining: 4m 21s\n200:\ttest: 0.7620982\tbest: 0.7620982 (200)\ttotal: 28.8s\tremaining: 4m 17s\n250:\ttest: 0.7654408\tbest: 0.7654408 (250)\ttotal: 36.2s\tremaining: 4m 12s\n300:\ttest: 0.7680063\tbest: 0.7680063 (300)\ttotal: 43.6s\tremaining: 4m 6s\n350:\ttest: 0.7698815\tbest: 0.7698815 (350)\ttotal: 51s\tremaining: 3m 59s\n400:\ttest: 0.7715461\tbest: 0.7715461 (400)\ttotal: 58s\tremaining: 3m 51s\n450:\ttest: 0.7728967\tbest: 0.7728967 (450)\ttotal: 1m 5s\tremaining: 3m 43s\n500:\ttest: 0.7740168\tbest: 0.7740168 (500)\ttotal: 1m 15s\tremaining: 3m 44s\n550:\ttest: 0.7750821\tbest: 0.7750821 (550)\ttotal: 1m 25s\tremaining: 3m 44s\n600:\ttest: 0.7760955\tbest: 0.7760955 (600)\ttotal: 1m 34s\tremaining: 3m 39s\n650:\ttest: 0.7772360\tbest: 0.7772360 (650)\ttotal: 1m 41s\tremaining: 3m 30s\n700:\ttest: 0.7783728\tbest: 0.7783728 (700)\ttotal: 1m 48s\tremaining: 3m 20s\n750:\ttest: 0.7793954\tbest: 0.7793954 (750)\ttotal: 1m 55s\tremaining: 3m 12s\n800:\ttest: 0.7803530\tbest: 0.7803530 (800)\ttotal: 2m 4s\tremaining: 3m 5s\n850:\ttest: 0.7810836\tbest: 0.7810836 (850)\ttotal: 2m 12s\tremaining: 2m 58s\n900:\ttest: 0.7817331\tbest: 0.7817396 (899)\ttotal: 2m 19s\tremaining: 2m 49s\n950:\ttest: 0.7823316\tbest: 0.7823316 (950)\ttotal: 2m 27s\tremaining: 2m 42s\n1000:\ttest: 0.7828276\tbest: 0.7828276 (1000)\ttotal: 2m 34s\tremaining: 2m 33s\n1050:\ttest: 0.7832443\tbest: 0.7832443 (1050)\ttotal: 2m 40s\tremaining: 2m 25s\n1100:\ttest: 0.7836103\tbest: 0.7836106 (1099)\ttotal: 2m 47s\tremaining: 2m 16s\n1150:\ttest: 0.7838418\tbest: 0.7838418 (1150)\ttotal: 2m 55s\tremaining: 2m 9s\n1200:\ttest: 0.7841482\tbest: 0.7841482 (1200)\ttotal: 3m 2s\tremaining: 2m 1s\n1250:\ttest: 0.7843986\tbest: 0.7843986 (1250)\ttotal: 3m 10s\tremaining: 1m 53s\n1300:\ttest: 0.7846198\tbest: 0.7846579 (1296)\ttotal: 3m 16s\tremaining: 1m 45s\n1350:\ttest: 0.7849290\tbest: 0.7849290 (1350)\ttotal: 3m 23s\tremaining: 1m 37s\n1400:\ttest: 0.7851299\tbest: 0.7851336 (1395)\ttotal: 3m 30s\tremaining: 1m 30s\n1450:\ttest: 0.7852439\tbest: 0.7852439 (1450)\ttotal: 3m 38s\tremaining: 1m 22s\n1500:\ttest: 0.7855211\tbest: 0.7855211 (1500)\ttotal: 3m 46s\tremaining: 1m 15s\n1550:\ttest: 0.7857173\tbest: 0.7857173 (1550)\ttotal: 3m 53s\tremaining: 1m 7s\n1600:\ttest: 0.7859285\tbest: 0.7859300 (1588)\ttotal: 4m\tremaining: 59.8s\n1650:\ttest: 0.7860678\tbest: 0.7860678 (1650)\ttotal: 4m 7s\tremaining: 52.3s\n1700:\ttest: 0.7861537\tbest: 0.7861537 (1700)\ttotal: 4m 14s\tremaining: 44.7s\n1750:\ttest: 0.7862900\tbest: 0.7862900 (1750)\ttotal: 4m 21s\tremaining: 37.2s\n1800:\ttest: 0.7864557\tbest: 0.7864557 (1800)\ttotal: 4m 28s\tremaining: 29.6s\n1850:\ttest: 0.7865935\tbest: 0.7865935 (1850)\ttotal: 4m 34s\tremaining: 22.1s\n1900:\ttest: 0.7866832\tbest: 0.7866832 (1900)\ttotal: 4m 41s\tremaining: 14.7s\n1950:\ttest: 0.7869113\tbest: 0.7869159 (1949)\ttotal: 4m 49s\tremaining: 7.26s\n1999:\ttest: 0.7869370\tbest: 0.7869614 (1984)\ttotal: 4m 55s\tremaining: 0us\n\nbestTest = 0.7869614208\nbestIteration = 1984\n\nShrink model to first 1985 iterations.\nWarning: Overfitting detector is active, thus evaluation metric is calculated on every iteration. 'metric_period' is ignored for evaluation metric.\n0:\ttest: 0.6984166\tbest: 0.6984166 (0)\ttotal: 150ms\tremaining: 5m\n50:\ttest: 0.7383883\tbest: 0.7383883 (50)\ttotal: 9.04s\tremaining: 5m 45s\n100:\ttest: 0.7502116\tbest: 0.7502116 (100)\ttotal: 16.4s\tremaining: 5m 9s\n150:\ttest: 0.7581051\tbest: 0.7581051 (150)\ttotal: 24.7s\tremaining: 5m 2s\n200:\ttest: 0.7628496\tbest: 0.7628496 (200)\ttotal: 32.2s\tremaining: 4m 48s\n250:\ttest: 0.7664275\tbest: 0.7664275 (250)\ttotal: 41.6s\tremaining: 4m 49s\n300:\ttest: 0.7690426\tbest: 0.7690426 (300)\ttotal: 49.3s\tremaining: 4m 38s\n350:\ttest: 0.7710875\tbest: 0.7710875 (350)\ttotal: 56.3s\tremaining: 4m 24s\n400:\ttest: 0.7726929\tbest: 0.7726929 (400)\ttotal: 1m 3s\tremaining: 4m 14s\n450:\ttest: 0.7741047\tbest: 0.7741047 (450)\ttotal: 1m 12s\tremaining: 4m 7s\n500:\ttest: 0.7754053\tbest: 0.7754053 (500)\ttotal: 1m 20s\tremaining: 4m\n550:\ttest: 0.7764909\tbest: 0.7764909 (550)\ttotal: 1m 27s\tremaining: 3m 50s\n600:\ttest: 0.7775072\tbest: 0.7775072 (600)\ttotal: 1m 34s\tremaining: 3m 39s\n650:\ttest: 0.7786456\tbest: 0.7786456 (650)\ttotal: 1m 40s\tremaining: 3m 29s\n700:\ttest: 0.7799719\tbest: 0.7799719 (700)\ttotal: 1m 49s\tremaining: 3m 23s\n750:\ttest: 0.7809926\tbest: 0.7809926 (750)\ttotal: 1m 58s\tremaining: 3m 17s\n800:\ttest: 0.7819563\tbest: 0.7819563 (800)\ttotal: 2m 8s\tremaining: 3m 12s\n850:\ttest: 0.7829849\tbest: 0.7829849 (850)\ttotal: 2m 15s\tremaining: 3m 2s\n900:\ttest: 0.7835413\tbest: 0.7835413 (900)\ttotal: 2m 22s\tremaining: 2m 53s\n950:\ttest: 0.7840747\tbest: 0.7840747 (950)\ttotal: 2m 28s\tremaining: 2m 43s\n1000:\ttest: 0.7846201\tbest: 0.7846201 (1000)\ttotal: 2m 35s\tremaining: 2m 35s\n1050:\ttest: 0.7851618\tbest: 0.7851638 (1049)\ttotal: 2m 44s\tremaining: 2m 28s\n1100:\ttest: 0.7855083\tbest: 0.7855083 (1100)\ttotal: 2m 51s\tremaining: 2m 19s\n1150:\ttest: 0.7858416\tbest: 0.7858416 (1150)\ttotal: 2m 58s\tremaining: 2m 11s\n1200:\ttest: 0.7862414\tbest: 0.7862414 (1200)\ttotal: 3m 5s\tremaining: 2m 3s\n1250:\ttest: 0.7865128\tbest: 0.7865204 (1248)\ttotal: 3m 12s\tremaining: 1m 55s\n1300:\ttest: 0.7867102\tbest: 0.7867112 (1299)\ttotal: 3m 19s\tremaining: 1m 46s\n1350:\ttest: 0.7870282\tbest: 0.7870282 (1350)\ttotal: 3m 25s\tremaining: 1m 38s\n1400:\ttest: 0.7872997\tbest: 0.7872997 (1400)\ttotal: 3m 32s\tremaining: 1m 30s\n1450:\ttest: 0.7874970\tbest: 0.7874970 (1450)\ttotal: 3m 39s\tremaining: 1m 22s\n1500:\ttest: 0.7876420\tbest: 0.7876576 (1494)\ttotal: 3m 45s\tremaining: 1m 15s\n1550:\ttest: 0.7876860\tbest: 0.7877216 (1540)\ttotal: 3m 52s\tremaining: 1m 7s\n1600:\ttest: 0.7879044\tbest: 0.7879044 (1600)\ttotal: 3m 59s\tremaining: 59.6s\n1650:\ttest: 0.7880703\tbest: 0.7880802 (1645)\ttotal: 4m 5s\tremaining: 51.9s\n1700:\ttest: 0.7882456\tbest: 0.7882472 (1691)\ttotal: 4m 12s\tremaining: 44.4s\n1750:\ttest: 0.7884168\tbest: 0.7884168 (1750)\ttotal: 4m 19s\tremaining: 36.8s\n1800:\ttest: 0.7885231\tbest: 0.7885318 (1791)\ttotal: 4m 25s\tremaining: 29.3s\n1850:\ttest: 0.7886143\tbest: 0.7886175 (1848)\ttotal: 4m 32s\tremaining: 21.9s\n1900:\ttest: 0.7887233\tbest: 0.7887233 (1900)\ttotal: 4m 38s\tremaining: 14.5s\n1950:\ttest: 0.7888334\tbest: 0.7888334 (1950)\ttotal: 4m 45s\tremaining: 7.17s\n1999:\ttest: 0.7889693\tbest: 0.7889693 (1999)\ttotal: 4m 51s\tremaining: 0us\n\nbestTest = 0.7889692973\nbestIteration = 1999\n\nCPU times: user 3h 55min 37s, sys: 4min 8s, total: 3h 59min 45s\nWall time: 23min 12s\n"
    }
   ],
   "source": [
    "%time predictions = trainNpredCatb(train, test, target, 5)"
   ]
  },
  {
   "cell_type": "code",
   "execution_count": 10,
   "metadata": {},
   "outputs": [],
   "source": [
    "# Create submission csv \n",
    "subdf = pd.DataFrame({'SK_ID_CURR': testIds, 'TARGET': predictions})"
   ]
  },
  {
   "cell_type": "code",
   "execution_count": 11,
   "metadata": {},
   "outputs": [],
   "source": [
    "subdf.to_csv('../../datatmp/data/submissioncatb.csv', index=False)"
   ]
  }
 ]
}